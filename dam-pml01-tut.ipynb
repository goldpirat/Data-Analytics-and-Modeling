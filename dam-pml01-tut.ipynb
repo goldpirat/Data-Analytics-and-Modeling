{
 "cells": [
  {
   "cell_type": "markdown",
   "metadata": {},
   "source": [
    "**dam-pml01-tut.ipynb**: This Jupyter notebook is provided by Joachim Vogt for the *Python Modeling Lab* of the module *CO-710 Data Analytics and Modeling* offered in Fall 2024 at Constructor University. Jupyter notebooks and other learning resources are available from a dedicated *module platform*."
   ]
  },
  {
   "cell_type": "markdown",
   "metadata": {},
   "source": [
    "# Introduction to the Python Modeling Lab"
   ]
  },
  {
   "cell_type": "markdown",
   "metadata": {},
   "source": [
    "The first session of the *Python Modeling Lab* introduces the computational setup and infrastructure of the module *Data Analytics and Modeling*. Tutorials and exercises are offered through *Jupyter notebooks* such as this one, integrating text, Python code, and graphics in a single document. Using standard web browsers, Jupyter notebooks can be run locally on desktop or laptop computers, or on a Jupyter notebook server such as the JupyterHub provided by Constructor University's *Computational Laboratory for Analysis, Modeling, and Visualization (CLAMV)*."
   ]
  },
  {
   "cell_type": "markdown",
   "metadata": {},
   "source": [
    "The third-semester module *Data Analytics and Modeling* expects knowledge of Python and coding skills at the level achieved after successful completion of the module *Introduction to Data Science*. This tutorial provides an indication of the required level by reviewing\n",
    "\n",
    "- [ ] the Jupyter notebook user interface,\n",
    "- [ ] essential Python syntax and data types, \n",
    "\n",
    "as well as the basic usage of the packages (libraries, modules)\n",
    "\n",
    "- [ ] NumPy allowing for efficient array operations,\n",
    "- [ ] Matplotlib to conveniently produce publication-quality figures,\n",
    "- [ ] Pandas for transforming and processing tabular data.\n",
    "\n",
    "If you wish to keep track of your progress, you may edit this markdown cell, check a box in the list above after having worked through the respective part of this notebook, and save the file."
   ]
  },
  {
   "cell_type": "markdown",
   "metadata": {},
   "source": [
    "There are no assignments attached to the first session of the *Python Modeling Lab*. If you are familiar with the content reviewed in a particular section of this notebook, you may simply skip the section. If you are in full command of all required prerequisities, feel free to proceed directly to the second session of the *Python Modeling Lab*."
   ]
  },
  {
   "cell_type": "markdown",
   "metadata": {},
   "source": [
    "### Documentation and online resources:\n",
    "- [Project Jupyter](https://jupyter.org) supports the development of Jupyter notebooks and related tools.\n",
    "- The Python programming language is documented at [Python.org](https://www.python.org) maintained by the Python Software Foundation (PSF).\n",
    "- The NumPy project is hosted at [numpy.org](https://numpy.org).\n",
    "- The Matplotlib project is hosted at [matplotlib.org](https://matplotlib.org).\n",
    "- Pandas is hosted at [https://pandas.pydata.org](https://pandas.pydata.org), with extensive [documentation](https://pandas.pydata.org/docs) and [tutorials](https://pandas.pydata.org/docs/getting_started/intro_tutorials/). If you are familiar with other tools for analyses of tabular data (R, SQL, spreadsheets, SAS, Stata), it may be worthwhile comparing terminologies, see the page [Comparisons with other tools](https://pandas.pydata.org/docs/getting_started/comparisons/). Note the official spelling is *pandas* (lower case). In this tutorial the package name is capitalized (*Pandas*)."
   ]
  },
  {
   "cell_type": "markdown",
   "metadata": {},
   "source": [
    "## Preparation"
   ]
  },
  {
   "cell_type": "markdown",
   "metadata": {},
   "source": [
    "The following data file is expected to reside in the working directory. Identify the file on the module platform and upload it to the same folder as this Jupyter notebook.\n",
    "\n",
    "- `SN_y_tot_V2.0.txt`: [Yearly mean total sunspot number](https://www.sidc.be/silso/infosnytot) provided by the [World Data Center for the production, preservation and dissemination of the international sunspot number (SILSO)](https://sidc.be/silso/home) through the [SILSO download page](https://www.sidc.be/silso/datafiles)."
   ]
  },
  {
   "cell_type": "markdown",
   "metadata": {},
   "source": [
    "## Jupyter notebook user interface"
   ]
  },
  {
   "cell_type": "markdown",
   "metadata": {},
   "source": [
    "Browse through the menus under `File`, `Edit`, `View`, `Insert`, `Cell`, `Kernel`, `Widgets`, and `Help`. At this stage it is not necessary to fully comprehend the functionality of all entries. By hovering the cursor over the buttons below the menu, explore the brief descriptions associated with them.\n",
    "\n",
    "In the menu under `Help` select the `User Interface Tour`. You are guided through the user interface of a Jupyter notebook. Of particular importance is the distinction between *markdown cells* and *code cells* exemplified below. "
   ]
  },
  {
   "cell_type": "markdown",
   "metadata": {},
   "source": [
    "### Markdown cells"
   ]
  },
  {
   "cell_type": "markdown",
   "metadata": {},
   "source": [
    "The cell below is a *markdown cell*. Click on it to enter the *Edit Mode*, and then check the syntax of different text elements. Then select the `Run` button to produce rendered text."
   ]
  },
  {
   "cell_type": "markdown",
   "metadata": {},
   "source": [
    "The markdown cell starts here. Without control elements, the text is displayed just like this.\n",
    "\n",
    "Using underscores (`_`) or asterisks (`*`), one may emphasize (italicize) text like _this_ or *that*.\n",
    "\n",
    "**Bold face** is produced by double underscores (`__`) or double asterisks (`**`).\n",
    "\n",
    "Triple underscores, asterisks, or dashes (`---`) produce a horizontal line as follows.\n",
    "\n",
    "---\n",
    "\n",
    "#### Preceding text with four hash marks produces a header like this one.  \n",
    "\n",
    "Hyperlinks are generated by combining square brackets with round parentheses like the following link to the website of [Constructor University](https://constructor.university/).\n",
    "\n",
    "Here is an itemized list.\n",
    "\n",
    "- Items can be separated using dashes or asterisks.\n",
    "- [ ] This is an unchecked box.\n",
    "- [x] This box is checked.\n",
    "\n",
    "> Blockquotes are produced using the character (`>`).\n",
    "\n",
    "Enclosing a Python function by backticks indicates it as a piece of code, e.g., `print()`.\n",
    "\n",
    "Markdown special characters are displayed using the backslash (`\\`). Search for *escape sequences* to obtain further information.\n",
    "\n",
    "\\# This is not a header."
   ]
  },
  {
   "cell_type": "markdown",
   "metadata": {},
   "source": [
    "### Code cells"
   ]
  },
  {
   "cell_type": "markdown",
   "metadata": {},
   "source": [
    "The cell below is a *code cell*. Click on it to enter the *Edit Mode*, and then check the syntax of the `print()` instruction. Then select the `Run` button to produce the output. The text preceded with a hashtag is a comment."
   ]
  },
  {
   "cell_type": "code",
   "execution_count": 2,
   "metadata": {},
   "outputs": [
    {
     "name": "stdout",
     "output_type": "stream",
     "text": [
      "This sentence is a Python string.\n"
     ]
    }
   ],
   "source": [
    "# This line is a comment, and will not be executed.\n",
    "# The next line contains a valid Python instruction.\n",
    "print('This sentence is a Python string.')"
   ]
  },
  {
   "cell_type": "markdown",
   "metadata": {},
   "source": [
    "### The IPython shell"
   ]
  },
  {
   "cell_type": "markdown",
   "metadata": {},
   "source": [
    "Each code cell imports a so-called *IPython shell*. You may obtain an overview by typing a question mark `?`. If you wish to see the arguments and options of a function, use `help()` or add a question mark after the function name. In the following code cell, uncomment individual instructions by removing the `#` symbol and run to see how this works."
   ]
  },
  {
   "cell_type": "code",
   "execution_count": 1,
   "metadata": {},
   "outputs": [],
   "source": [
    "#?\n",
    "#help()\n",
    "#print?\n",
    "#help(print)\n",
    "#sentence = 'This sentence is a Python string.'\n",
    "#sentence.count?"
   ]
  },
  {
   "cell_type": "markdown",
   "metadata": {},
   "source": [
    "## Python data types"
   ]
  },
  {
   "cell_type": "markdown",
   "metadata": {},
   "source": [
    "This notebook section reviews the second and third sessions of the *Python Data Lab* as part of the first-semester module *Introduction to Data Science*, introducing key Python data types and basic file handling.\n",
    "\n",
    "- Numerical data types: integer, float, complex.\n",
    "- Boolean expressions.\n",
    "- String variables.\n",
    "- Python lists.\n",
    "- Dictonaries.\n",
    "- Basic file handling."
   ]
  },
  {
   "cell_type": "markdown",
   "metadata": {},
   "source": [
    "### Numerical data types"
   ]
  },
  {
   "cell_type": "markdown",
   "metadata": {},
   "source": [
    "Standard numerical data types in Python are `integer` (whole numbers, base 10), `float` (floating-point numbers, with `e` preceding the exponent of powers of ten) and `complex` (with `1j`denoting the imaginary unit). "
   ]
  },
  {
   "cell_type": "code",
   "execution_count": 3,
   "metadata": {},
   "outputs": [
    {
     "name": "stdout",
     "output_type": "stream",
     "text": [
      "42 <class 'int'>\n",
      "541.5 <class 'float'>\n",
      "(1-2j) <class 'complex'>\n"
     ]
    }
   ],
   "source": [
    "n = 42\n",
    "print(n, type(n))\n",
    "x = 5.415e2\n",
    "print(x, type(x))\n",
    "z = 1 - 2j\n",
    "print(z, type(z))"
   ]
  },
  {
   "cell_type": "markdown",
   "metadata": {},
   "source": [
    "Integers can be added (`+`), subtracted (`-`), multiplied (`*`), divided (`/`), and exponentiated (`**`). Further binary arithmetic operators are `%` (modulo) and `//` (floor division). Addition or multiplication of integers results in an integer."
   ]
  },
  {
   "cell_type": "code",
   "execution_count": 4,
   "metadata": {},
   "outputs": [
    {
     "name": "stdout",
     "output_type": "stream",
     "text": [
      "42 <class 'int'>\n",
      "2 <class 'int'>\n",
      "84 <class 'int'>\n",
      "21.0 <class 'float'>\n"
     ]
    }
   ],
   "source": [
    "n= 42\n",
    "print(n, type(n))\n",
    "m = 2\n",
    "print(m, type(m))\n",
    "p = n*m\n",
    "print(p, type(p))\n",
    "q = n/m\n",
    "print(q, type(q))"
   ]
  },
  {
   "cell_type": "markdown",
   "metadata": {},
   "source": [
    "Floating-point numbers can be represented only within limits. Magnitudes that are $1.8 \\cdot 10^{308}$ or larger are set to the string variable `inf` (infinity). Magnitudes that are $10^{-325}$ or smaller are set to zero. In Python 3, memory allocation for integers works differently than for floating-point numbers, and there is no such limitation for integer arithmetics."
   ]
  },
  {
   "cell_type": "code",
   "execution_count": 5,
   "metadata": {},
   "outputs": [
    {
     "name": "stdout",
     "output_type": "stream",
     "text": [
      "1.5e+308\n",
      "inf\n",
      "5e-324\n",
      "0.0\n",
      "1000000000000000000000000000000000000000000000000000000000000000000000000000000000000000000000000000000000000000000000000000000000000000000000000000000000000000000000000000000000000000000000000000000000000000000000000000000000000000000000000000000000000000000000000000000000000000000000000000000000000000000000000000000000000000000 <class 'int'>\n"
     ]
    }
   ],
   "source": [
    "print(1.5e308)\n",
    "print(2.0e308)\n",
    "print(5.0e-324)\n",
    "print(1.0e-325)\n",
    "n = 10**330\n",
    "print(n, type(n))"
   ]
  },
  {
   "cell_type": "markdown",
   "metadata": {},
   "source": [
    "Mathematical functions are available through dedicated modules such as `math` that needs to be imported to become available. After importing `math`, tab completion (`math.<Tab>`) gives the functions contained in the module."
   ]
  },
  {
   "cell_type": "code",
   "execution_count": 8,
   "metadata": {},
   "outputs": [
    {
     "data": {
      "text/plain": [
       "3.584962500721156"
      ]
     },
     "execution_count": 8,
     "metadata": {},
     "output_type": "execute_result"
    }
   ],
   "source": [
    "import math\n",
    "#Tab completion: Uncomment the following line and press the <Tab> key after the period\n",
    "math.log2(12)"
   ]
  },
  {
   "cell_type": "markdown",
   "metadata": {},
   "source": [
    "### Boolean expressions"
   ]
  },
  {
   "cell_type": "markdown",
   "metadata": {},
   "source": [
    "A boolean expressions gives a truth value, either `True` or `False`. For instance, the operator `==` checks if two numbers are equal."
   ]
  },
  {
   "cell_type": "code",
   "execution_count": 9,
   "metadata": {},
   "outputs": [
    {
     "name": "stdout",
     "output_type": "stream",
     "text": [
      "False <class 'bool'>\n",
      "True <class 'bool'>\n"
     ]
    }
   ],
   "source": [
    "m = 2**3\n",
    "n = 3**2\n",
    "meqn = m==n\n",
    "print(meqn,type(meqn))\n",
    "k = 8\n",
    "keqm = k==m\n",
    "print(keqm,type(keqm))"
   ]
  },
  {
   "cell_type": "markdown",
   "metadata": {},
   "source": [
    "Be careful when comparing floating-point numbers. Due to limitations in their internal representation, the strict equality test may fail although two results are equal."
   ]
  },
  {
   "cell_type": "code",
   "execution_count": 10,
   "metadata": {},
   "outputs": [
    {
     "name": "stdout",
     "output_type": "stream",
     "text": [
      "False\n",
      "5.3 5.300000000000001\n"
     ]
    }
   ],
   "source": [
    "x = 5.1 + 0.2\n",
    "y = 2.1 + 3.2\n",
    "print(x==y)\n",
    "print(x, y)"
   ]
  },
  {
   "cell_type": "markdown",
   "metadata": {},
   "source": [
    "Further comparison operators are `>`, `>=`, `<`, `<=`, and `!=`."
   ]
  },
  {
   "cell_type": "code",
   "execution_count": 11,
   "metadata": {},
   "outputs": [
    {
     "name": "stdout",
     "output_type": "stream",
     "text": [
      "False\n",
      "True\n",
      "False\n"
     ]
    }
   ],
   "source": [
    "print(2>2)\n",
    "print(2>=2)\n",
    "print(2!=2)"
   ]
  },
  {
   "cell_type": "markdown",
   "metadata": {},
   "source": [
    "Boolean expressions can be combined using logical connectives such as `and`, `or`, and `not`."
   ]
  },
  {
   "cell_type": "code",
   "execution_count": 12,
   "metadata": {},
   "outputs": [
    {
     "name": "stdout",
     "output_type": "stream",
     "text": [
      "False\n",
      "False\n",
      "True\n"
     ]
    }
   ],
   "source": [
    "print(not True)\n",
    "print(True and False)\n",
    "print(True or False)"
   ]
  },
  {
   "cell_type": "markdown",
   "metadata": {},
   "source": [
    "### String variables"
   ]
  },
  {
   "cell_type": "markdown",
   "metadata": {},
   "source": [
    "Strings are character sequences and enclosed by single quotes, double quotes, or triple quotes. The Python string type is `str`."
   ]
  },
  {
   "cell_type": "code",
   "execution_count": 13,
   "metadata": {},
   "outputs": [
    {
     "name": "stdout",
     "output_type": "stream",
     "text": [
      "This string is defined using single quotes.\n",
      "<class 'str'>\n",
      "This string is defined using double quotes.\n",
      "<class 'str'>\n",
      "This string is defined using triple quotes.\n",
      "<class 'str'>\n"
     ]
    }
   ],
   "source": [
    "sq = 'This string is defined using single quotes.'\n",
    "print(sq)\n",
    "print(type(sq))\n",
    "dq = \"This string is defined using double quotes.\"\n",
    "print(dq)\n",
    "print(type(dq))\n",
    "tq = '''This string is defined using triple quotes.'''\n",
    "print(tq)\n",
    "print(type(tq))"
   ]
  },
  {
   "cell_type": "markdown",
   "metadata": {},
   "source": [
    "String variables containing single quotes or double quotes may be delimited with the other type of quote, or with triple quotes."
   ]
  },
  {
   "cell_type": "code",
   "execution_count": 14,
   "metadata": {},
   "outputs": [
    {
     "name": "stdout",
     "output_type": "stream",
     "text": [
      "What's the question?\n",
      "She asked, \"What's the question?\"\n"
     ]
    }
   ],
   "source": [
    "question = \"What's the question?\"\n",
    "print(question)\n",
    "sentence = '''She asked, \"What's the question?\"'''\n",
    "print(sentence)"
   ]
  },
  {
   "cell_type": "markdown",
   "metadata": {},
   "source": [
    "Not only quotes deserve special attention, also the backslash `\\`, allowing for multi-line definition of strings as follows."
   ]
  },
  {
   "cell_type": "code",
   "execution_count": 15,
   "metadata": {},
   "outputs": [
    {
     "name": "stdout",
     "output_type": "stream",
     "text": [
      "Dichlorodifluoromethane\n"
     ]
    }
   ],
   "source": [
    "CCl2F2 = 'Dichloro\\\n",
    "difluoro\\\n",
    "methane'\n",
    "print(CCl2F2)"
   ]
  },
  {
   "cell_type": "markdown",
   "metadata": {},
   "source": [
    "Special characters like quotes or the backslash are considered in Python strings by means of *escape sequences*, e.g., `\\'` for a single quote, and `\\\\` for the backslash."
   ]
  },
  {
   "cell_type": "code",
   "execution_count": 16,
   "metadata": {},
   "outputs": [
    {
     "name": "stdout",
     "output_type": "stream",
     "text": [
      "What's the question?\n",
      "a\\b\n"
     ]
    }
   ],
   "source": [
    "question = 'What\\'s the question?'\n",
    "print(question)\n",
    "ab = 'a\\\\b'\n",
    "print(ab)"
   ]
  },
  {
   "cell_type": "markdown",
   "metadata": {},
   "source": [
    "Further examples of escape sequences are `\\n` (newline), `\\t` (tab), `\\b` (backspace), `\\r` (return). In the following code cell, uncomment individual lines to select a function and observe the output."
   ]
  },
  {
   "cell_type": "code",
   "execution_count": 21,
   "metadata": {},
   "outputs": [
    {
     "name": "stdout",
     "output_type": "stream",
     "text": [
      "a\n",
      "b\n"
     ]
    }
   ],
   "source": [
    "#print('a\\\\b')\n",
    "#print('a\\b')\n",
    "#print('a\\tb')\n",
    "print('a\\nb')"
   ]
  },
  {
   "cell_type": "markdown",
   "metadata": {},
   "source": [
    "Numerical values can be incorporated in Python strings using the `format()` function. "
   ]
  },
  {
   "cell_type": "code",
   "execution_count": null,
   "metadata": {},
   "outputs": [],
   "source": [
    "a = 3.14159265\n",
    "str1 = 'The number pi is {}.'.format(a)\n",
    "print(str1)"
   ]
  },
  {
   "cell_type": "markdown",
   "metadata": {},
   "source": [
    "The numerical value of the function argument is inserted at the position of the curly braces `{}`. The output can be controlled using format identifiers such as `.4f` producing a four-digit number. Here is an example with several arguments."
   ]
  },
  {
   "cell_type": "code",
   "execution_count": 22,
   "metadata": {},
   "outputs": [
    {
     "name": "stdout",
     "output_type": "stream",
     "text": [
      "The numbers pi and e are 3.1416 and 2.7183, respectively.\n"
     ]
    }
   ],
   "source": [
    "a = 3.14159265359\n",
    "b = 2.71828182846\n",
    "str2 = 'The numbers pi and e are {pi:.4f} and {e:.4f}, respectively.'.format(pi=a, e=b)\n",
    "print(str2)"
   ]
  },
  {
   "cell_type": "markdown",
   "metadata": {},
   "source": [
    "A set of dedicated functions is associated with string variables, e.g., `count()` to check how often a certain substring occurs in a string, `capitalize()` to make the first letter a capital, `upper()` and `lower()` to convert a string to uppercase and lowercase, respectively. In the following code cell, uncomment individual lines to select a function and observe the output."
   ]
  },
  {
   "cell_type": "code",
   "execution_count": 24,
   "metadata": {},
   "outputs": [
    {
     "name": "stdout",
     "output_type": "stream",
     "text": [
      "Beeblebrox\n",
      "2\n",
      "BEEBLEBROX\n",
      "beeblebrox\n",
      "Beeblebrox\n",
      "Baablabrox\n"
     ]
    }
   ],
   "source": [
    "lastname = 'Beeblebrox'\n",
    "print(lastname)\n",
    "print(lastname.count('eb'))\n",
    "print(lastname.upper())\n",
    "print(lastname.lower())\n",
    "print(lastname.lower().capitalize())\n",
    "print(lastname.replace('e','a'))"
   ]
  },
  {
   "cell_type": "markdown",
   "metadata": {},
   "source": [
    "Strings are concatentated using the `+` operator."
   ]
  },
  {
   "cell_type": "code",
   "execution_count": 25,
   "metadata": {},
   "outputs": [
    {
     "name": "stdout",
     "output_type": "stream",
     "text": [
      "Zaphod Beeblebrox\n"
     ]
    }
   ],
   "source": [
    "firstname = 'Zaphod'\n",
    "fullname = firstname + ' ' + lastname\n",
    "print(fullname)"
   ]
  },
  {
   "cell_type": "markdown",
   "metadata": {},
   "source": [
    "Individual letters are addressed by specifying its position (index) in square brackets. In Python, the first position is at index 0. Substrings can extracted through *slicing*, i.e., by specifying ranges of indices separated by a colon `:` as follows. Note that in Python, `[m:n]` gives the range from `m` to `n-1` (i.e., `n` is not included). Negative indices refer to the end of a string."
   ]
  },
  {
   "cell_type": "code",
   "execution_count": 26,
   "metadata": {},
   "outputs": [
    {
     "name": "stdout",
     "output_type": "stream",
     "text": [
      "p\n",
      "pho\n",
      "x\n",
      "ebr\n"
     ]
    }
   ],
   "source": [
    "print(fullname[2])\n",
    "print(fullname[2:5])\n",
    "print(fullname[-1])\n",
    "print(fullname[-5:-2])"
   ]
  },
  {
   "cell_type": "markdown",
   "metadata": {},
   "source": [
    "The function `format()` can be used to turn a number into a string."
   ]
  },
  {
   "cell_type": "code",
   "execution_count": 27,
   "metadata": {},
   "outputs": [
    {
     "data": {
      "text/plain": [
       "'2.718281828'"
      ]
     },
     "execution_count": 27,
     "metadata": {},
     "output_type": "execute_result"
    }
   ],
   "source": [
    "'{}'.format(2.718281828)"
   ]
  },
  {
   "cell_type": "markdown",
   "metadata": {},
   "source": [
    "More directly, such a type conversion is done by the function `str()`."
   ]
  },
  {
   "cell_type": "code",
   "execution_count": 28,
   "metadata": {},
   "outputs": [
    {
     "data": {
      "text/plain": [
       "'2.718281828'"
      ]
     },
     "execution_count": 28,
     "metadata": {},
     "output_type": "execute_result"
    }
   ],
   "source": [
    "str(2.718281828)"
   ]
  },
  {
   "cell_type": "markdown",
   "metadata": {},
   "source": [
    "Strings containing numbers must be converted to a numerical data type before meaningful operations can be performed. Conversion from string to integer is accomplished by means of the function `int()`."
   ]
  },
  {
   "cell_type": "code",
   "execution_count": 29,
   "metadata": {},
   "outputs": [
    {
     "name": "stdout",
     "output_type": "stream",
     "text": [
      "s1=3, s2=4, s1+s1=34\n",
      "n1=3, n2=4, n1+n1=7\n"
     ]
    }
   ],
   "source": [
    "s1 = '3'\n",
    "s2 = '4'\n",
    "print('s1={}, s2={}, s1+s1={}'.format(s1, s2, s1+s2))\n",
    "n1 = int(s1)\n",
    "n2 = int(s2)\n",
    "print('n1={}, n2={}, n1+n1={}'.format(n1, n2, n1+n2))"
   ]
  },
  {
   "cell_type": "markdown",
   "metadata": {},
   "source": [
    "The function `float()` converts to floating-point numbers. "
   ]
  },
  {
   "cell_type": "code",
   "execution_count": 30,
   "metadata": {},
   "outputs": [
    {
     "name": "stdout",
     "output_type": "stream",
     "text": [
      "s1=3.2, s2=4.3, s1+s1=3.24.3\n",
      "n1=3.2, n2=4.3, n1+n1=7.5\n"
     ]
    }
   ],
   "source": [
    "s1 = '3.2'\n",
    "s2 = '4.3'\n",
    "print('s1={}, s2={}, s1+s1={}'.format(s1, s2, s1+s2))\n",
    "n1 = float(s1)\n",
    "n2 = float(s2)\n",
    "print('n1={}, n2={}, n1+n1={}'.format(n1, n2, n1+n2))"
   ]
  },
  {
   "cell_type": "markdown",
   "metadata": {},
   "source": [
    "One may also convert integers to floating-point numbers. In the reverse direction, the digits are cut off."
   ]
  },
  {
   "cell_type": "code",
   "execution_count": 31,
   "metadata": {},
   "outputs": [
    {
     "name": "stdout",
     "output_type": "stream",
     "text": [
      "i1=3    : float(i1)=3.0\n",
      "f2=4.3  : int(f2)=4\n",
      "f3=-4.3 : int(f3)=-4\n"
     ]
    }
   ],
   "source": [
    "i1 = 3\n",
    "print('i1={}    : float(i1)={}'.format(i1, float(i1)))\n",
    "f2 = 4.3\n",
    "print('f2={}  : int(f2)={}'.format(f2, int(f2)))\n",
    "f3 = -4.3\n",
    "print('f3={} : int(f3)={}'.format(f3, int(f3)))"
   ]
  },
  {
   "cell_type": "markdown",
   "metadata": {},
   "source": [
    "### Python lists"
   ]
  },
  {
   "cell_type": "markdown",
   "metadata": {},
   "source": [
    "Python lists are collections of objects of possibly different types. Lists are enclosed in square brackets `[...]`. Like strings, lists can be concatentated using the `+` operator."
   ]
  },
  {
   "cell_type": "code",
   "execution_count": 32,
   "metadata": {},
   "outputs": [
    {
     "name": "stdout",
     "output_type": "stream",
     "text": [
      "[2, 'three', 4, 5.6, 'seven', 8.9, 10]\n"
     ]
    }
   ],
   "source": [
    "lst1 = [2, 'three', 4, 5.6]\n",
    "lst2 = ['seven', 8.9, 10]\n",
    "lst3 = lst1 + lst2\n",
    "print(lst3)"
   ]
  },
  {
   "cell_type": "markdown",
   "metadata": {},
   "source": [
    "The number of elements in a list is returned by the function `len()`."
   ]
  },
  {
   "cell_type": "code",
   "execution_count": 33,
   "metadata": {},
   "outputs": [
    {
     "name": "stdout",
     "output_type": "stream",
     "text": [
      "Number of elements in lst1: 4\n",
      "Number of elements in lst2: 3\n",
      "Number of elements in lst3: 7\n"
     ]
    }
   ],
   "source": [
    "print('Number of elements in lst1: {}'.format(len(lst1)))\n",
    "print('Number of elements in lst2: {}'.format(len(lst2)))\n",
    "print('Number of elements in lst3: {}'.format(len(lst3)))"
   ]
  },
  {
   "cell_type": "markdown",
   "metadata": {},
   "source": [
    "Individual elements in lists can be selected using its index, analogous to individual characters in strings. In Python, the element at the first position is at index 0."
   ]
  },
  {
   "cell_type": "code",
   "execution_count": 34,
   "metadata": {},
   "outputs": [
    {
     "name": "stdout",
     "output_type": "stream",
     "text": [
      "List     : [2, 'three', 4, 5.6, 'seven', 8.9, 10]\n",
      "Position : 5\n",
      "Index    : 4\n",
      "Element  : seven\n",
      "Type     : <class 'str'>\n"
     ]
    }
   ],
   "source": [
    "print('List     :', lst3)\n",
    "pos = 5\n",
    "print('Position : {}'.format(pos))\n",
    "ind = pos-1\n",
    "print('Index    : {}'.format(ind))\n",
    "elem = lst3[ind]\n",
    "print('Element  : {}'.format(elem))\n",
    "print('Type     : {}'.format(type(elem)))"
   ]
  },
  {
   "cell_type": "markdown",
   "metadata": {},
   "source": [
    "This selection mechanism works also for ranges of the form `m:n`, addressing list elements from index `m` to index `n-1` (i.e., index `n` is not included). This is called (list) *slicing*. The form `:n` (omission of first index) is equivalent to `0:n`. The form `m:` (omission of the second index) is equivalent to `m:n` where `n` is the length of the list (total number of list elements). Negative indices refer to the end of a string."
   ]
  },
  {
   "cell_type": "code",
   "execution_count": 35,
   "metadata": {},
   "outputs": [
    {
     "name": "stdout",
     "output_type": "stream",
     "text": [
      "Complete list lst3      :  [2, 'three', 4, 5.6, 'seven', 8.9, 10]\n",
      "Partial list lst3[2:5]  :  [4, 5.6, 'seven']\n",
      "Partial list lst3[:5]   :  [2, 'three', 4, 5.6, 'seven']\n",
      "Partial list lst3[2:]   :  [4, 5.6, 'seven', 8.9, 10]\n",
      "Partial  list lst3[:-5] :  [2, 'three']\n",
      "Partial  list lst3[-2:] :  [8.9, 10]\n"
     ]
    }
   ],
   "source": [
    "m = 2\n",
    "n = 5\n",
    "print('Complete list lst3      : ', lst3)\n",
    "print('Partial list lst3[{}:{}]  : '.format(m, n), lst3[m:n])\n",
    "print('Partial list lst3[:{}]   : '.format(n), lst3[:n])\n",
    "print('Partial list lst3[{}:]   : '.format(m), lst3[m:])\n",
    "print('Partial  list lst3[:{}] : '.format(-n), lst3[:-n])\n",
    "print('Partial  list lst3[{}:] : '.format(-m), lst3[-m:])"
   ]
  },
  {
   "cell_type": "markdown",
   "metadata": {},
   "source": [
    "Adding a third index yields *strides*: `m:n:s`. E.g., to select every second element starting at the second position (index 1) of this list with seven elements, one may write `1:7:2` or simply `1::2`."
   ]
  },
  {
   "cell_type": "code",
   "execution_count": 36,
   "metadata": {},
   "outputs": [
    {
     "name": "stdout",
     "output_type": "stream",
     "text": [
      "Complete list lst3       :  [2, 'three', 4, 5.6, 'seven', 8.9, 10]\n",
      "Partial list lst3[1:7:2] :  ['three', 5.6, 8.9]\n",
      "Partial list lst3[1::2]  :  ['three', 5.6, 8.9]\n"
     ]
    }
   ],
   "source": [
    "m = 1\n",
    "n = 7\n",
    "s = 2\n",
    "print('Complete list lst3       : ', lst3)\n",
    "print('Partial list lst3[{}:{}:{}] : '.format(m, n, s), lst3[m:n:s])\n",
    "print('Partial list lst3[{}::{}]  : '.format(m, s), lst3[m::s])"
   ]
  },
  {
   "cell_type": "markdown",
   "metadata": {},
   "source": [
    "Unlike tuples discussed below, lists are mutable objects, i.e., their entries can be changed, even to an object of a different type."
   ]
  },
  {
   "cell_type": "code",
   "execution_count": 37,
   "metadata": {},
   "outputs": [
    {
     "name": "stdout",
     "output_type": "stream",
     "text": [
      "lst4 : ['two', 3, 4.2, 5]\n",
      "lst4 : ['two', 3, 4.2, 'five']\n"
     ]
    }
   ],
   "source": [
    "lst4 = ['two', 3, 4.2, 5]\n",
    "print('lst4 :', lst4)\n",
    "lst4[3] = 'five'\n",
    "print('lst4 :', lst4)"
   ]
  },
  {
   "cell_type": "markdown",
   "metadata": {},
   "source": [
    "Another notable property of lists concerns assignments to another variable. Instead of an independent copy, a so-called *view* is produced, i.e., a second reference to the same object. Manipulating the underlying object through operations on either of the two variables affects both of them. "
   ]
  },
  {
   "cell_type": "code",
   "execution_count": 38,
   "metadata": {},
   "outputs": [
    {
     "name": "stdout",
     "output_type": "stream",
     "text": [
      "lst5 : ['cat', 'dog']\n",
      "lst6 : ['mouse', 'dog']\n",
      "lst5 : ['mouse', 'dog']\n"
     ]
    }
   ],
   "source": [
    "lst5 = ['cat', 'dog']\n",
    "print('lst5 :', lst5)\n",
    "lst6 = lst5\n",
    "lst6[0] = 'mouse'\n",
    "print('lst6 :', lst6)\n",
    "print('lst5 :', lst5)"
   ]
  },
  {
   "cell_type": "markdown",
   "metadata": {},
   "source": [
    "To create an independent copy of a list that can be manipulated independently, use the `copy()` method."
   ]
  },
  {
   "cell_type": "code",
   "execution_count": 39,
   "metadata": {},
   "outputs": [
    {
     "name": "stdout",
     "output_type": "stream",
     "text": [
      "lst5 : ['cat', 'dog']\n",
      "lst6 : ['mouse', 'dog']\n",
      "lst5 : ['cat', 'dog']\n"
     ]
    }
   ],
   "source": [
    "lst5 = ['cat', 'dog']\n",
    "print('lst5 :', lst5)\n",
    "lst6 = lst5.copy()\n",
    "lst6[0] = 'mouse'\n",
    "print('lst6 :', lst6)\n",
    "print('lst5 :', lst5)"
   ]
  },
  {
   "cell_type": "markdown",
   "metadata": {},
   "source": [
    "Tuples are like lists but immutable, i.e., their entries cannot be changed after definition. Tuples are enclosed in round parentheses while their entries are referenced using square brackets."
   ]
  },
  {
   "cell_type": "code",
   "execution_count": 40,
   "metadata": {},
   "outputs": [
    {
     "name": "stdout",
     "output_type": "stream",
     "text": [
      "(1, 2) <class 'tuple'>\n",
      "tpl[1] = 2\n"
     ]
    }
   ],
   "source": [
    "tpl = (1, 2)\n",
    "print(tpl, type(tpl))\n",
    "print('tpl[1] = {}'.format(tpl[1]))"
   ]
  },
  {
   "cell_type": "markdown",
   "metadata": {},
   "source": [
    "Uncomment the instruction in the code cell below to obtain an error message showing that tuples are immutable."
   ]
  },
  {
   "cell_type": "code",
   "execution_count": 41,
   "metadata": {},
   "outputs": [
    {
     "ename": "TypeError",
     "evalue": "'tuple' object does not support item assignment",
     "output_type": "error",
     "traceback": [
      "\u001b[0;31m---------------------------------------------------------------------------\u001b[0m",
      "\u001b[0;31mTypeError\u001b[0m                                 Traceback (most recent call last)",
      "Cell \u001b[0;32mIn[41], line 1\u001b[0m\n\u001b[0;32m----> 1\u001b[0m \u001b[43mtpl\u001b[49m\u001b[43m[\u001b[49m\u001b[38;5;241;43m1\u001b[39;49m\u001b[43m]\u001b[49m \u001b[38;5;241m=\u001b[39m \u001b[38;5;241m3\u001b[39m\n",
      "\u001b[0;31mTypeError\u001b[0m: 'tuple' object does not support item assignment"
     ]
    }
   ],
   "source": [
    "tpl[1] = 3"
   ]
  },
  {
   "cell_type": "markdown",
   "metadata": {},
   "source": [
    "### Dictionaries"
   ]
  },
  {
   "cell_type": "markdown",
   "metadata": {},
   "source": [
    "Python dictionaries are data structures mapping key to values, i.e., they consist of key:value pairs. Depending on the Python version, these associative arrays may be ordered or unordered. The following illustrate example may be understood as a data base for different types of fruit. Keys and values can be accessed separately. Items are pairs in the form of (key,value) tuples. Individual entries (values and items) are indexed by keys."
   ]
  },
  {
   "cell_type": "code",
   "execution_count": 42,
   "metadata": {},
   "outputs": [
    {
     "name": "stdout",
     "output_type": "stream",
     "text": [
      "Dictionary :  {'Apples': 19, 'Bananas': 13, 'Oranges': 17, 'Pears': 11}\n",
      "Keys       :  dict_keys(['Apples', 'Bananas', 'Oranges', 'Pears'])\n",
      "Values     :  dict_values([19, 13, 17, 11])\n",
      "Items      :  dict_items([('Apples', 19), ('Bananas', 13), ('Oranges', 17), ('Pears', 11)])\n",
      "17\n"
     ]
    }
   ],
   "source": [
    "DictOfFruits = {'Apples':19, 'Bananas':13, 'Oranges':17, 'Pears':11}\n",
    "print('Dictionary : ', DictOfFruits)\n",
    "print('Keys       : ', DictOfFruits.keys())\n",
    "print('Values     : ', DictOfFruits.values())\n",
    "print('Items      : ', DictOfFruits.items())\n",
    "print(DictOfFruits['Oranges'])"
   ]
  },
  {
   "cell_type": "markdown",
   "metadata": {},
   "source": [
    "### Basic file handling"
   ]
  },
  {
   "cell_type": "markdown",
   "metadata": {},
   "source": [
    "String and type conversion operations are useful when dealing with data files. Here we consider files organized in sequential records or lines, and illustrate file operations using data on three cities in Northern Germany. Consult the Python documentation on the functions `open()`, `writelines()`, `close()`, and study the following set of instructions. A new data file `cities.txt` is opened for writing (`w`), then the header is written, followed by the three data records. Note that except for the last record (end of file or EOF), the newline character `\\n` must be appended so that subsequent lines are separated in the data file. Check your working directory to verify that the file has been created."
   ]
  },
  {
   "cell_type": "code",
   "execution_count": 43,
   "metadata": {},
   "outputs": [],
   "source": [
    "header = 'City, Area [km2], Altitude [m]'\n",
    "line01 = 'Bremen, 318.21, 11'\n",
    "line02 = 'Hannover, 204.3, 55'\n",
    "line03 = 'Oldenburg, 103.09, 5'\n",
    "fout = open('cities.txt','w')\n",
    "fout.writelines(header+'\\n')\n",
    "fout.writelines(line01+'\\n')\n",
    "fout.writelines(line02+'\\n')\n",
    "fout.writelines(line03)\n",
    "fout.close()"
   ]
  },
  {
   "cell_type": "markdown",
   "metadata": {},
   "source": [
    "In a similar manner, such a file can be read so that its content becomes available in Python. The function `read()` puts all content into a single string."
   ]
  },
  {
   "cell_type": "code",
   "execution_count": 44,
   "metadata": {},
   "outputs": [
    {
     "data": {
      "text/plain": [
       "'City, Area [km2], Altitude [m]\\nBremen, 318.21, 11\\nHannover, 204.3, 55\\nOldenburg, 103.09, 5'"
      ]
     },
     "execution_count": 44,
     "metadata": {},
     "output_type": "execute_result"
    }
   ],
   "source": [
    "fin = open('cities.txt', 'r')\n",
    "content = fin.read()\n",
    "fin.close()\n",
    "content"
   ]
  },
  {
   "cell_type": "markdown",
   "metadata": {},
   "source": [
    "Applying the function `split()` with the newline character `\\n` as its argument gives a list of strings, each corresponding to one line from the data file. This is equivalent to using the function `splitlines()`. Each line can now be processed further to extract information."
   ]
  },
  {
   "cell_type": "code",
   "execution_count": 46,
   "metadata": {},
   "outputs": [
    {
     "name": "stdout",
     "output_type": "stream",
     "text": [
      "['City, Area [km2], Altitude [m]', 'Bremen, 318.21, 11', 'Hannover, 204.3, 55', 'Oldenburg, 103.09, 5'] <class 'list'>\n",
      "Bremen area [km2]: 318.21\n"
     ]
    }
   ],
   "source": [
    "#lines = content.split('\\n')\n",
    "lines = content.splitlines()\n",
    "print(lines, type(lines))\n",
    "BremenRecord = lines[1].split(',')\n",
    "BremenArea = float(BremenRecord[1])\n",
    "print('Bremen area [km2]: {}'.format(BremenArea))"
   ]
  },
  {
   "cell_type": "markdown",
   "metadata": {},
   "source": [
    "The above data file example is primarily meant to illustrate basic string and list processing. To read (load) and write (save, store) specific file formats, numerous convenience functions exist in popular modules such as NumPy and pandas to facilitate file input and output."
   ]
  },
  {
   "cell_type": "markdown",
   "metadata": {},
   "source": [
    "## NumPy basics"
   ]
  },
  {
   "cell_type": "markdown",
   "metadata": {},
   "source": [
    "The content of the NumPy module is usually imported by means of the prefix `np`."
   ]
  },
  {
   "cell_type": "code",
   "execution_count": 48,
   "metadata": {},
   "outputs": [],
   "source": [
    "import numpy as np"
   ]
  },
  {
   "cell_type": "markdown",
   "metadata": {},
   "source": [
    "### NumPy arrays from Python lists"
   ]
  },
  {
   "cell_type": "markdown",
   "metadata": {},
   "source": [
    "NumPy's efficient data processing capabilities rest on the class of N-dimensional arrays or `ndarray` objects. Such an object is a container for variables of the *same type*. NumPy array may be created from Python lists using the NumPy function `array()`. The `dtype` attribute of a NumPy array shows the type of individual array elements. "
   ]
  },
  {
   "cell_type": "code",
   "execution_count": 49,
   "metadata": {},
   "outputs": [
    {
     "name": "stdout",
     "output_type": "stream",
     "text": [
      "[2, 3, 5, 7] <class 'list'>\n",
      "[2 3 5 7] <class 'numpy.ndarray'>\n",
      "dtype of arr1   :  int64\n"
     ]
    }
   ],
   "source": [
    "lst1 = [2, 3, 5, 7]\n",
    "print(lst1, type(lst1))\n",
    "arr1 = np.array(lst1)\n",
    "print(arr1, type(arr1))\n",
    "print('dtype of arr1   : ', arr1.dtype)"
   ]
  },
  {
   "cell_type": "markdown",
   "metadata": {},
   "source": [
    "Arithmetic operations on NumPy arrays are applied element-by-element. Note the difference between the Python list concatenation operators `+` and `*` and the NumPy array addition and multiplication operators `+` and `*`."
   ]
  },
  {
   "cell_type": "code",
   "execution_count": 50,
   "metadata": {},
   "outputs": [
    {
     "name": "stdout",
     "output_type": "stream",
     "text": [
      "lst1+lst1 :  [2, 3, 5, 7, 2, 3, 5, 7]\n",
      "arr1+arr1 :  [ 4  6 10 14]\n",
      "3*lst1    :  [2, 3, 5, 7, 2, 3, 5, 7, 2, 3, 5, 7]\n",
      "3*arr1    :  [ 6  9 15 21]\n"
     ]
    }
   ],
   "source": [
    "print('lst1+lst1 : ', lst1+lst1)\n",
    "print('arr1+arr1 : ', arr1+arr1)\n",
    "print('3*lst1    : ', 3*lst1)\n",
    "print('3*arr1    : ', 3*arr1)"
   ]
  },
  {
   "cell_type": "markdown",
   "metadata": {},
   "source": [
    "Selecting individual array elements and slicing works in the same way as for Python lists. Negative indices and slides are supported. This syntax can also be used to redefine content of NumPy arrays."
   ]
  },
  {
   "cell_type": "code",
   "execution_count": 51,
   "metadata": {},
   "outputs": [
    {
     "name": "stdout",
     "output_type": "stream",
     "text": [
      "arr1        :  [2 3 5 7]\n",
      "arr1[0]     :  2\n",
      "arr1[0:2]   :  [2 3]\n",
      "arr1[-1]    :  7\n",
      "arr1[-3:-1] :  [3 5]\n",
      "\n",
      "*** arr1[0] has been redefined to 17 ***\n",
      "arr1        :  [17  3  5  7]\n",
      "\n",
      "*** arr1[1:3] has been redefined to [13,11] ***\n",
      "arr1        :  [17 13 11  7]\n"
     ]
    }
   ],
   "source": [
    "print('arr1        : ', arr1)\n",
    "print('arr1[0]     : ', arr1[0])\n",
    "print('arr1[0:2]   : ', arr1[0:2])\n",
    "print('arr1[-1]    : ', arr1[-1])\n",
    "print('arr1[-3:-1] : ', arr1[-3:-1])\n",
    "arr1[0] = 17\n",
    "print('\\n*** arr1[0] has been redefined to 17 ***')\n",
    "print('arr1        : ', arr1)\n",
    "print('\\n*** arr1[1:3] has been redefined to [13,11] ***')\n",
    "arr1[1:3] = [13,11]\n",
    "print('arr1        : ', arr1)"
   ]
  },
  {
   "cell_type": "markdown",
   "metadata": {},
   "source": [
    "Applying the NumPy function `array()` to a list containing different numerical types yields a NumPy array of the more general numerical type. For instance, mixing integers and floating-numbers results in a NumPy array of floats. Mixing numbers and strings in a list defintion results in a NumPy array of strings."
   ]
  },
  {
   "cell_type": "code",
   "execution_count": 52,
   "metadata": {},
   "outputs": [
    {
     "name": "stdout",
     "output_type": "stream",
     "text": [
      "lst2          :  [2, 3, 5.0, 7.0] <class 'list'>\n",
      "arr2          :  [2. 3. 5. 7.] <class 'numpy.ndarray'>\n",
      "dtype of arr2 :  float64\n",
      "arr2[0]       :  2.0 <class 'numpy.float64'>\n",
      "lst3          :  [2, 3, '5', 7] <class 'list'>\n",
      "arr3          :  ['2' '3' '5' '7'] <class 'numpy.ndarray'>\n",
      "dtype of arr3 :  <U21\n",
      "arr3[0]       :  2 <class 'numpy.str_'>\n"
     ]
    }
   ],
   "source": [
    "lst2 = [2, 3, 5.0, 7.0]\n",
    "print('lst2          : ', lst2, type(lst2))\n",
    "arr2 = np.array(lst2)\n",
    "print('arr2          : ', arr2, type(arr2))\n",
    "print('dtype of arr2 : ', arr2.dtype)\n",
    "print('arr2[0]       : ', arr2[0], type(arr2[0]))\n",
    "lst3 = [2, 3, '5', 7]\n",
    "print('lst3          : ', lst3, type(lst3))\n",
    "arr3 = np.array(lst3)\n",
    "print('arr3          : ', arr3, type(arr3))\n",
    "print('dtype of arr3 : ', arr3.dtype)\n",
    "print('arr3[0]       : ', arr3[0], type(arr3[0]))"
   ]
  },
  {
   "cell_type": "markdown",
   "metadata": {},
   "source": [
    "### Multi-dimensional arrays"
   ]
  },
  {
   "cell_type": "markdown",
   "metadata": {},
   "source": [
    "Using lists of lists (of lists ...) we may create multi-dimensional arrays. The dimensions of an array are also called *axes*. The `shape` attribute is tuple giving the number of elements in the individual axes. The current example is a two-dimensional array (matrix). The first axis (`axis=0`) corresponds to the row dimension, and the second axis (`axis=1`) to the column dimension."
   ]
  },
  {
   "cell_type": "code",
   "execution_count": 53,
   "metadata": {},
   "outputs": [
    {
     "name": "stdout",
     "output_type": "stream",
     "text": [
      "*** arr4 is a two-dimensional array ***\n",
      "[[ 2  3  5  7]\n",
      " [11 13 17 19]\n",
      " [23 29 31 37]]\n",
      "\n",
      "type(arr4) :  <class 'numpy.ndarray'>\n",
      "arr4.shape :  (3, 4)\n"
     ]
    }
   ],
   "source": [
    "arr4 = np.array([[2, 3, 5, 7], [11, 13, 17, 19], [23, 29, 31, 37]])\n",
    "print('*** arr4 is a two-dimensional array ***')\n",
    "print(arr4)\n",
    "print()\n",
    "print('type(arr4) : ', type(arr4))\n",
    "print('arr4.shape : ', arr4.shape)"
   ]
  },
  {
   "cell_type": "markdown",
   "metadata": {},
   "source": [
    "The function `flatten()` creates a one-dimensional version of a multi-dimensional NumPy array. The instance created by `flatten()` is a one-dimensional copy, i.e., an array that can be manipulated independently from the original array. Instead, the function `ravel()` creates a one-dimensional view, i.e., another reference to the same array."
   ]
  },
  {
   "cell_type": "code",
   "execution_count": 55,
   "metadata": {},
   "outputs": [
    {
     "name": "stdout",
     "output_type": "stream",
     "text": [
      "*** arr5 as defined through arr4.flatten() ***\n",
      "[-42   3   5   7  11  13  17  19  23  29  31  37]\n",
      "\n",
      "*** arr4 after arr4.flatten()[0] is set to -42 ***\n",
      "[[-42   3   5   7]\n",
      " [ 11  13  17  19]\n",
      " [ 23  29  31  37]]\n",
      "\n",
      "*** arr4 after arr4.ravel()[0] is set to -42 ***\n",
      "[[-42   3   5   7]\n",
      " [ 11  13  17  19]\n",
      " [ 23  29  31  37]]\n"
     ]
    }
   ],
   "source": [
    "arr5 = arr4.flatten()\n",
    "print('*** arr5 as defined through arr4.flatten() ***')\n",
    "print(arr5)\n",
    "arr4.flatten()[0] = -42\n",
    "print('\\n*** arr4 after arr4.flatten()[0] is set to -42 ***')\n",
    "print(arr4)\n",
    "arr4.ravel()[0] = -42\n",
    "print('\\n*** arr4 after arr4.ravel()[0] is set to -42 ***')\n",
    "print(arr4)"
   ]
  },
  {
   "cell_type": "markdown",
   "metadata": {},
   "source": [
    "More generally, rearranging a given NumPy array into a (view of) another shape is achieved by the `reshape()` function. Indexing and slicing can be applied to individual axes of multi-dimensional arrays."
   ]
  },
  {
   "cell_type": "code",
   "execution_count": 56,
   "metadata": {},
   "outputs": [
    {
     "name": "stdout",
     "output_type": "stream",
     "text": [
      "*** arr5: one-dimensional array ***\n",
      " \n",
      "[-42   3   5   7  11  13  17  19  23  29  31  37]\n",
      "\n",
      "*** arr6: arr5 reshaped to (2,2,3) ***\n",
      "\n",
      "[[[-42   3   5]\n",
      "  [  7  11  13]]\n",
      "\n",
      " [[ 17  19  23]\n",
      "  [ 29  31  37]]]\n",
      "\n",
      "*** arr6[0, -1, 1] :  11\n"
     ]
    }
   ],
   "source": [
    "print('*** arr5: one-dimensional array ***\\n ')\n",
    "print(arr5)\n",
    "print('\\n*** arr6: arr5 reshaped to (2,2,3) ***\\n')\n",
    "arr6 = arr5.reshape(2, 2, 3)\n",
    "print(arr6)\n",
    "print('\\n*** arr6[0, -1, 1] : ',arr6[0, -1, 1])"
   ]
  },
  {
   "cell_type": "markdown",
   "metadata": {},
   "source": [
    "### Uniform NumPy arrays and range expressions"
   ]
  },
  {
   "cell_type": "markdown",
   "metadata": {},
   "source": [
    "The NumPy function `full()` creates a uniform `ndarray` object. Important input arguments are shape and fill value. More specifically, the NumPy functions `zeros()` and `ones()` create uniform arrays filled with zeros and ones, respectively."
   ]
  },
  {
   "cell_type": "code",
   "execution_count": 57,
   "metadata": {},
   "outputs": [
    {
     "name": "stdout",
     "output_type": "stream",
     "text": [
      "*** np.full((3, 4), 2.718) ***\n",
      "[[2.718 2.718 2.718 2.718]\n",
      " [2.718 2.718 2.718 2.718]\n",
      " [2.718 2.718 2.718 2.718]]\n",
      "\n",
      "*** np.zeros(12) ***\n",
      "[0. 0. 0. 0. 0. 0. 0. 0. 0. 0. 0. 0.]\n",
      "\n",
      "*** np.ones((3, 4)) ***\n",
      "[[1. 1. 1. 1.]\n",
      " [1. 1. 1. 1.]\n",
      " [1. 1. 1. 1.]]\n"
     ]
    }
   ],
   "source": [
    "print('*** np.full((3, 4), 2.718) ***')\n",
    "print(np.full((3,4), 2.718))\n",
    "print('\\n*** np.zeros(12) ***')\n",
    "print(np.zeros(12))\n",
    "print('\\n*** np.ones((3, 4)) ***')\n",
    "print(np.ones((3,4)))"
   ]
  },
  {
   "cell_type": "markdown",
   "metadata": {},
   "source": [
    "The NumPy function `arange()` creates a range of numerical valus, with arguments corresponding to the parameters in slices. "
   ]
  },
  {
   "cell_type": "code",
   "execution_count": 58,
   "metadata": {},
   "outputs": [
    {
     "name": "stdout",
     "output_type": "stream",
     "text": [
      "[ 4 13 22 31]\n"
     ]
    }
   ],
   "source": [
    "start = 4\n",
    "stop = 40\n",
    "step = 9\n",
    "print(np.arange(start, stop, step))"
   ]
  },
  {
   "cell_type": "markdown",
   "metadata": {},
   "source": [
    "For floating-point arrays, the result depends sensitively on the parameter `stop`."
   ]
  },
  {
   "cell_type": "code",
   "execution_count": 59,
   "metadata": {},
   "outputs": [
    {
     "name": "stdout",
     "output_type": "stream",
     "text": [
      "np.arange(4.0, 40.0, 9.0)  :  [ 4. 13. 22. 31.]\n",
      "np.arange(4.0, 40.01, 9.0) :  [ 4. 13. 22. 31. 40.]\n"
     ]
    }
   ],
   "source": [
    "print('np.arange(4.0, 40.0, 9.0)  : ',np.arange(4.0, 40.0, 9.0))\n",
    "print('np.arange(4.0, 40.01, 9.0) : ',np.arange(4.0, 40.01, 9.0))"
   ]
  },
  {
   "cell_type": "markdown",
   "metadata": {},
   "source": [
    "In many cases more robust is the NumPy function `linspace()` with the total number of array elements as the third input argument, and always including the `stop` parameter."
   ]
  },
  {
   "cell_type": "code",
   "execution_count": 60,
   "metadata": {},
   "outputs": [
    {
     "name": "stdout",
     "output_type": "stream",
     "text": [
      "np.linspace(4.0, 40.0, 5)  :  [ 4. 13. 22. 31. 40.]\n",
      "np.linspace(4.0, 40.01, 5) :  [ 4.     13.0025 22.005  31.0075 40.01  ]\n"
     ]
    }
   ],
   "source": [
    "print('np.linspace(4.0, 40.0, 5)  : ', np.linspace(4.0, 40.0, 5))\n",
    "print('np.linspace(4.0, 40.01, 5) : ', np.linspace(4.0, 40.01, 5))"
   ]
  },
  {
   "cell_type": "markdown",
   "metadata": {},
   "source": [
    "### Array filtering using boolean masks"
   ]
  },
  {
   "cell_type": "markdown",
   "metadata": {},
   "source": [
    "Array operations are efficiently applied to subsets of elements satisfying certain conditions by means of *boolean masks*. To demonstrate how this concept is applied, the code in the following cell takes a small data set of a supposedly positive measurements, checks for negative fill values (`-9.99`) signaling data gaps, then creates a suitable boolean mask indicating data gaps with the truth value `True`, and finally replaces the numerical fill values with NumPy's `NaN` (not a number)."
   ]
  },
  {
   "cell_type": "code",
   "execution_count": 61,
   "metadata": {},
   "outputs": [
    {
     "name": "stdout",
     "output_type": "stream",
     "text": [
      "arr7   :  [ 2.32  2.52  2.15 -9.99  2.43 -9.99  2.47  2.61] float64\n",
      "arr7<0 :  [False False False  True False  True False False] bool\n",
      "*** arr7 with negative elements replaced by NaN ***\n",
      "[2.32 2.52 2.15  nan 2.43  nan 2.47 2.61]\n"
     ]
    }
   ],
   "source": [
    "### Define floating-point NumPy array from Python list\n",
    "lst7 = [2.32, 2.52, 2.15, -9.99, 2.43, -9.99, 2.47, 2.61]\n",
    "arr7 = np.array(lst7)\n",
    "print('arr7   : ', arr7, arr7.dtype)\n",
    "\n",
    "### Check which elements are negative\n",
    "gap7 = arr7<0\n",
    "print('arr7<0 : ', gap7, gap7.dtype)\n",
    "\n",
    "### Replace negative elements by NumPy floating-point NaN (not a number)\n",
    "arr7[gap7] = np.nan\n",
    "print('*** arr7 with negative elements replaced by NaN ***')\n",
    "print(arr7)"
   ]
  },
  {
   "cell_type": "markdown",
   "metadata": {},
   "source": [
    "Here `<` (lesser than) is an example of a comparison operator. Further comparison operators are `>` (greater than), `>=` (greater than or equal to), `<=` (lesser than or equal to), `==` (equal to) and `!=` (not equal to)."
   ]
  },
  {
   "cell_type": "markdown",
   "metadata": {},
   "source": [
    "Boolean arrays can be combined using bitwise logical connectives such as `|` (bitwise logical or) and `&` (bitwise logical and). Note that the Python keywords `or` and `and` are usually unsuitable for creating boolean masks from NumPy array operations as they compare entire objects. The following example checks if array elements are in the interval $[-2,5]$."
   ]
  },
  {
   "cell_type": "code",
   "execution_count": 62,
   "metadata": {},
   "outputs": [
    {
     "name": "stdout",
     "output_type": "stream",
     "text": [
      "[ 1 -2  3 -4  5 -6  7 -8]\n",
      "[ True  True  True False  True False False False]\n"
     ]
    }
   ],
   "source": [
    "lst8 = [1, -2, 3, -4, 5, -6, 7, -8]\n",
    "arr8 = np.array(lst8)\n",
    "print(arr8)\n",
    "msk8 = (arr8 >= -2) & (arr8 <= 5)\n",
    "print(msk8)"
   ]
  },
  {
   "cell_type": "markdown",
   "metadata": {},
   "source": [
    "The NumPy functions `any()` or `all()` allow for checking if any or all array elements along a given axis satisfy a certain condition, respectively."
   ]
  },
  {
   "cell_type": "code",
   "execution_count": 63,
   "metadata": {},
   "outputs": [
    {
     "name": "stdout",
     "output_type": "stream",
     "text": [
      "*** arr9: two-dimensional array of shape (2, 4) ***\n",
      "[[ 1 -2  3 -4]\n",
      " [ 5 -6  7 -8]]\n",
      "\n",
      "*** NumPy functions any() and all() applied to arr9 ***\n",
      "np.any(arr9>5, axis=0)  :  [False False  True False]\n",
      "np.all(arr9>-5, axis=1) :  [ True False]\n"
     ]
    }
   ],
   "source": [
    "lst9 = [1, -2, 3, -4, 5, -6, 7, -8]\n",
    "arr9 = np.array(lst9).reshape(2, 4)\n",
    "print('*** arr9: two-dimensional array of shape (2, 4) ***')\n",
    "print(arr9)\n",
    "print('\\n*** NumPy functions any() and all() applied to arr9 ***')\n",
    "print('np.any(arr9>5, axis=0)  : ', np.any(arr9>5, axis=0))\n",
    "print('np.all(arr9>-5, axis=1) : ', np.all(arr9>-5, axis=1))"
   ]
  },
  {
   "cell_type": "markdown",
   "metadata": {},
   "source": [
    "### Functions of NumPy arrays"
   ]
  },
  {
   "cell_type": "markdown",
   "metadata": {},
   "source": [
    "The NumPy functions `any()` and `all()` evaluate condtions along dedicated axes of an array and return an array of reduced shape. Further functions showing the same behavior are `sum()`, `mean()`, `max()`, `min()`, `argmax()`, and `argmin()`. Check the NumPy documentation for further information."
   ]
  },
  {
   "cell_type": "code",
   "execution_count": 64,
   "metadata": {},
   "outputs": [
    {
     "name": "stdout",
     "output_type": "stream",
     "text": [
      "*** arr9: two-dimensional array of shape (2, 4) ***\n",
      "[[ 1 -2  3 -4]\n",
      " [ 5 -6  7 -8]]\n",
      "\n",
      "*** NumPy functions max(), argmax(), sum() applied to arr9 ***\n",
      "np.max(arr9,axis=0)     :  [ 5 -2  7 -4]\n",
      "np.argmax(arr9,axis=0)  :  [1 0 1 0]\n",
      "np.sum(arr9,axis=1)     :  [-2 -2]\n"
     ]
    }
   ],
   "source": [
    "lst9 = [1, -2, 3, -4, 5, -6, 7, -8]\n",
    "arr9 = np.array(lst9).reshape(2, 4)\n",
    "print('*** arr9: two-dimensional array of shape (2, 4) ***')\n",
    "print(arr9)\n",
    "print('\\n*** NumPy functions max(), argmax(), sum() applied to arr9 ***')\n",
    "print('np.max(arr9,axis=0)     : ', np.max(arr9, axis=0))\n",
    "print('np.argmax(arr9,axis=0)  : ', np.argmax(arr9, axis=0))\n",
    "print('np.sum(arr9,axis=1)     : ', np.sum(arr9, axis=1))"
   ]
  },
  {
   "cell_type": "markdown",
   "metadata": {},
   "source": [
    "Arithmetic and other mathematical functions in the NumPy package are usually vectorized operations and thus optimized for computational efficiency. Examples are exponents, logarithms, trigonometric and hyperbolic functions. The output array is of the same shape as the input array."
   ]
  },
  {
   "cell_type": "code",
   "execution_count": 65,
   "metadata": {},
   "outputs": [
    {
     "name": "stdout",
     "output_type": "stream",
     "text": [
      "*** arr9: two-dimensional array of shape (2, 4) ***\n",
      "[[ 1 -2  3 -4]\n",
      " [ 5 -6  7 -8]]\n",
      "\n",
      "*** arr9**2 ***\n",
      "[[ 1  4  9 16]\n",
      " [25 36 49 64]]\n",
      "\n",
      "*** 1/arr9 ***\n",
      "[[ 1.         -0.5         0.33333333 -0.25      ]\n",
      " [ 0.2        -0.16666667  0.14285714 -0.125     ]]\n",
      "\n",
      "*** np.exp(arr9) ***\n",
      "[[2.71828183e+00 1.35335283e-01 2.00855369e+01 1.83156389e-02]\n",
      " [1.48413159e+02 2.47875218e-03 1.09663316e+03 3.35462628e-04]]\n",
      "\n",
      "*** np.cos(arr9*np.pi/4) ***\n",
      "[[ 7.07106781e-01  6.12323400e-17 -7.07106781e-01 -1.00000000e+00]\n",
      " [-7.07106781e-01 -1.83697020e-16  7.07106781e-01  1.00000000e+00]]\n"
     ]
    }
   ],
   "source": [
    "lst9 = [1, -2, 3, -4, 5, -6, 7, -8]\n",
    "arr9 = np.array(lst9).reshape(2, 4)\n",
    "print('*** arr9: two-dimensional array of shape (2, 4) ***')\n",
    "print(arr9)\n",
    "print('\\n*** arr9**2 ***')\n",
    "print(arr9**2)\n",
    "print('\\n*** 1/arr9 ***')\n",
    "print(1/arr9)\n",
    "print('\\n*** np.exp(arr9) ***')\n",
    "print(np.exp(arr9))\n",
    "print('\\n*** np.cos(arr9*np.pi/4) ***')\n",
    "print(np.cos(arr9*np.pi/4))"
   ]
  },
  {
   "cell_type": "markdown",
   "metadata": {},
   "source": [
    "### Loading numerical data from regular text files"
   ]
  },
  {
   "cell_type": "markdown",
   "metadata": {},
   "source": [
    "The file `SN_y_tot_V2.0.txt` lists the [yearly mean total sunspot number](https://www.sidc.be/silso/infosnytot) since 1700.  It is a plain text (ASCII) file without header consisting of four columns: year, average number of sunspots, standard deviation, number of measurements entering the average. For the latter two variables, missing data are indicated by the value `-1`. For brevity, we refer to the average number of sunspots as the *sunspot number*. Plain text files with such a regular rectangular structure can be loaded, e.g., by means of the NumPy functions ``loadtxt()`` or ``genfromtxt()``. The former function is faster when no data are missing while the latter function works also in the case of missing data."
   ]
  },
  {
   "cell_type": "code",
   "execution_count": 66,
   "metadata": {},
   "outputs": [
    {
     "name": "stdout",
     "output_type": "stream",
     "text": [
      "Maximum sunspot number      :  269.3\n",
      "Maximum observed in year    :  1957.5\n"
     ]
    }
   ],
   "source": [
    "year,nspots = np.loadtxt('SN_y_tot_V2.0.txt', usecols=(0,1), unpack=True)\n",
    "print('Maximum sunspot number      : ', nspots.max())\n",
    "print('Maximum observed in year    : ', year[nspots.argmax()])"
   ]
  },
  {
   "cell_type": "markdown",
   "metadata": {},
   "source": [
    "## Matplotlib basics"
   ]
  },
  {
   "cell_type": "markdown",
   "metadata": {},
   "source": [
    "From the matplotlib library we import the package `pyplot` using the standard abbreviation `plt`. The magic command `%matplotlib inline` (IPython shell) allows for inline display of graphics."
   ]
  },
  {
   "cell_type": "code",
   "execution_count": 67,
   "metadata": {},
   "outputs": [],
   "source": [
    "import matplotlib.pyplot as plt\n",
    "%matplotlib inline"
   ]
  },
  {
   "cell_type": "markdown",
   "metadata": {},
   "source": [
    "### Line plots and scatter diagrams"
   ]
  },
  {
   "cell_type": "markdown",
   "metadata": {},
   "source": [
    "Here is a summary of the features of the function `plot()` from `matplotlib.pyplot`.\n",
    "\n",
    "- Calling the plot function with only one argument `y` displays the values `y[k]` versus the indices `k`, either connected by straight line segments, or as individual points using predefined plot symbols.\n",
    "- With two arguments `x` and `y`, the values `y[k]` are displayed versus the values `x[k]` for all valid indices `k`.\n",
    "- The linestyle can be controlled through the keyword parameter `linestyle` (or `ls`).\n",
    "- The linewidth can be specified using the keyword parameter `linewidth` (or `lw`).\n",
    "- The color can be controlled through the keyword parameter `color` (or `c`).\n",
    "- Marker symbols can be added using the keyword parameter `marker` (or `m`).\n",
    "\n",
    "Some of the functionality is also available through *format strings*, e.g., `'r--'` produces a plot with data connected by red dashed lines."
   ]
  },
  {
   "cell_type": "markdown",
   "metadata": {},
   "source": [
    "In the following code cell, the data from the file `SN_y_tot_V2.0.txt` are displayed using the function `plot()`."
   ]
  },
  {
   "cell_type": "code",
   "execution_count": 68,
   "metadata": {},
   "outputs": [
    {
     "data": {
      "image/png": "[encoded data removed]",
      "text/plain": [
       "<Figure size 640x480 with 1 Axes>"
      ]
     },
     "metadata": {},
     "output_type": "display_data"
    }
   ],
   "source": [
    "plt.plot(year, nspots, color='black')\n",
    "plt.title('Sunspot numbers 1700-2000')\n",
    "plt.xlabel('Year')\n",
    "plt.ylabel('Sunspot number')\n",
    "plt.xlim((1700, 2000))\n",
    "plt.ylim((0, 200))\n",
    "plt.fill_between(year, nspots, color='yellow');"
   ]
  },
  {
   "cell_type": "markdown",
   "metadata": {},
   "source": [
    "There are two approaches to plotting supported by matplotlib. The first option was inspired by MATLAB, and tries to match its logic and syntax. The second option may be referred to as *object-oriented approach*, emphasizing figures and figure elements as Python objects. In the following example, a graphics is first produced using the MATLAB-style syntax, and then by means of he object-oriented approach."
   ]
  },
  {
   "cell_type": "markdown",
   "metadata": {},
   "source": [
    "### Example: MATLAB-style plot syntax"
   ]
  },
  {
   "cell_type": "code",
   "execution_count": 73,
   "metadata": {},
   "outputs": [
    {
     "data": {
      "image/png": "[encoded data removed]",
      "text/plain": [
       "<Figure size 1100x700 with 6 Axes>"
      ]
     },
     "metadata": {},
     "output_type": "display_data"
    }
   ],
   "source": [
    "### Equidistant discretization of [0, 2] with spacing 0.2.\n",
    "x = np.linspace(0, 2, 11)\n",
    "\n",
    "### Definition of grid functions.\n",
    "y1 = (x+1)**2\n",
    "y2 = x**2 + 1\n",
    "\n",
    "### Open a new figure object of default size.\n",
    "plt.figure(figsize=(11, 7))\n",
    "\n",
    "### First plot in a (2, 3) array.\n",
    "plt.subplot(2, 3, 1)\n",
    "plt.plot(x, y1, color='r')\n",
    "plt.title(r'Function $y=(x+1)^2$')\n",
    "plt.ylabel('y axis')\n",
    "\n",
    "### Second plot in a (2, 3) array.\n",
    "plt.subplot(2, 3, 2)\n",
    "plt.plot(x,y2,color='g')\n",
    "plt.title(r'Function $y=x^2+1$')\n",
    "plt.grid()\n",
    "\n",
    "### Third plot in a (2, 3) array.\n",
    "plt.subplot(2, 3, 3)\n",
    "plt.plot(x, y1, color='magenta', linestyle='dashed', label=r'Function $y=(x+1)^2$')\n",
    "plt.plot(x, y2, color='brown', linestyle='dotted', label=r'Function $y=x^2+1$')\n",
    "plt.title(r'Comparison of functions')\n",
    "plt.legend()\n",
    "\n",
    "### Fourth plot in a (2, 3) array.\n",
    "plt.subplot(2, 3, 4)\n",
    "plt.plot(x, y1, 'b*')\n",
    "plt.xlabel('x axis')\n",
    "plt.ylabel('y axis')\n",
    "plt.grid()\n",
    "\n",
    "### Fifth plot in a (2, 3) array.\n",
    "plt.subplot(2, 3, 5)\n",
    "plt.plot(x, y2, 'kd')\n",
    "plt.xlabel('x axis')\n",
    "\n",
    "### Sixth plot in a (2, 3) array.\n",
    "plt.subplot(2, 3, 6)\n",
    "plt.scatter(x, y1, color='orange', marker='1', label=r'Function $y=(x+1)^2$')\n",
    "plt.scatter(x, y2, color='cyan', marker='s', label=r'Function $y=x^2+1$')\n",
    "plt.xlabel('x axis')\n",
    "plt.legend();\n",
    "\n",
    "### Store figure in png format.\n",
    "#fig.savefig('subplots22.png');"
   ]
  },
  {
   "cell_type": "markdown",
   "metadata": {},
   "source": [
    "### Example: Object-oriented approach to plotting"
   ]
  },
  {
   "cell_type": "code",
   "execution_count": 74,
   "metadata": {},
   "outputs": [
    {
     "data": {
      "image/png": "[encoded data removed]",
      "text/plain": [
       "<Figure size 1100x700 with 6 Axes>"
      ]
     },
     "metadata": {},
     "output_type": "display_data"
    }
   ],
   "source": [
    "### Equidistant discretization of [0, 2] with spacing 0.2.\n",
    "x = np.linspace(0, 2, 11)\n",
    "\n",
    "### Definition of grid functions.\n",
    "y1 = (x+1)**2\n",
    "y2 = x**2 + 1\n",
    "\n",
    "### Open a new figure object to store a (2, 3) array of plots.\n",
    "fig,axs = plt.subplots(2, 3, figsize=(11, 7))\n",
    "\n",
    "### Plot at the [0, 0] position.\n",
    "axs[0, 0].plot(x, y1, color='r')\n",
    "axs[0, 0].set_title(r'Function $y=(x+1)^2$')\n",
    "axs[0, 0].set_ylabel('y axis')\n",
    "\n",
    "### Plot at the [0, 1] position.\n",
    "axs[0, 1].plot(x, y2, color='g')\n",
    "axs[0, 1].set_title(r'Function $y=x^2+1$')\n",
    "axs[0, 1].grid()\n",
    "\n",
    "### Plot at the [0, 2] position.\n",
    "axs[0, 2].plot(x, y1, color='magenta', linestyle='dashed', label=r'Function $y=(x+1)^2$')\n",
    "axs[0, 2].plot(x, y2, color='brown', linestyle='dotted', label=r'Function $y=x^2+1$')\n",
    "axs[0, 2].set_title(r'Comparison of functions')\n",
    "axs[0, 2].legend()\n",
    "\n",
    "### Plot at the [1, 0] position.\n",
    "axs[1, 0].plot(x, y1, 'b*')\n",
    "axs[1, 0].set_xlabel('x axis')\n",
    "axs[1, 0].set_ylabel('y axis')\n",
    "axs[1, 0].grid()\n",
    "\n",
    "### Plot at the [1, 1] position.\n",
    "axs[1, 1].plot(x, y2, 'kd')\n",
    "axs[1, 1].set_xlabel('x axis')\n",
    "\n",
    "### Plot at the [1, 2] position.\n",
    "axs[1, 2].scatter(x, y1, color='orange', marker='1', label=r'Function $y=(x+1)^2$')\n",
    "axs[1, 2].scatter(x, y2, color='cyan', marker='s', label=r'Function $y=x^2+1$')\n",
    "axs[1, 2].set_xlabel('x axis')\n",
    "axs[1, 2].legend();\n",
    "\n",
    "### Store figure in png format.\n",
    "fig.savefig('subplots22.png');"
   ]
  },
  {
   "cell_type": "markdown",
   "metadata": {},
   "source": [
    "### Contour plots and digital images"
   ]
  },
  {
   "cell_type": "markdown",
   "metadata": {},
   "source": [
    "Matplotlib offers several options for the visualization of two-dimensional arrays (matrices). For instance, they can displayed as images using the function `imshow()`, or visualized through contour lines (connecting positions sharing the same value, also called level sets) by means of the functions `contour()` and `contourf()`. In contrast to `contour()` or `contourf()`, `imshow()` interpretes array elements as square pixels, and the aspect ratio is preserved. Furthermore, the pixels on the vertical axis are reversed, with zero at the top. Note that `imshow()` uses the default color map (keyword `cmap`). To enforce grayscale displays, set `cmap` to `plt.cm.gray`, or to the string variable 'gray'.  \n",
    "\n",
    "In the example below, some of the visualization options are demonstrated using a two-dimensional array `f` with a bell-shaped profile in the horizontal direction (`x`) and oscillatory behavior in the vertical direction (`y`)."
   ]
  },
  {
   "cell_type": "code",
   "execution_count": 75,
   "metadata": {},
   "outputs": [
    {
     "data": {
      "image/png": "[encoded data removed]",
      "text/plain": [
       "<Figure size 1500x1000 with 8 Axes>"
      ]
     },
     "metadata": {},
     "output_type": "display_data"
    }
   ],
   "source": [
    "## Define two-dimensional coordinate arrays x, y.\n",
    "x, y = np.meshgrid(np.linspace(-2, 2, 201), np.linspace(-1, 1, 201))\n",
    "\n",
    "### Create a two-dimensional array f with bell-shaped profile in x and oscillatory bahavior in y.\n",
    "f = 100*(1 + np.exp(-x**2)*np.sin(2*np.pi*y))\n",
    "\n",
    "### Open a figure object with a (2, 2) array of subplots.\n",
    "fig, axs = plt.subplots(2, 2, figsize=(15, 10))\n",
    "\n",
    "### Subplot in position [0, 0]: Contour lines.\n",
    "cp0 = axs[0, 0].contour(f)\n",
    "fig.colorbar(cp0, ax=axs[0, 0])\n",
    "axs[0, 0].set_title('$f(x,y)$ displayed using contour')\n",
    "\n",
    "### Subplot in position [0, 1]: Filled contour lines.\n",
    "cp1 = axs[0, 1].contourf(f)\n",
    "fig.colorbar(cp1, ax=axs[0, 1])\n",
    "axs[0, 1].set_title('$f(x,y)$ displayed using contourf')\n",
    "\n",
    "### Subplot in position [1, 0]: Image using default color map.\n",
    "im0 = axs[1, 0].imshow(f)\n",
    "fig.colorbar(im0, ax=axs[1, 0])\n",
    "axs[1, 0].set_title(\"$f(x,y)$ displayed using imshow, default cmap\")\n",
    "\n",
    "### Subplot in position [1, 1]: Gray scale image.\n",
    "im1 = axs[1, 1].imshow(f,cmap='gray')\n",
    "fig.colorbar(im1, ax=axs[1, 1])\n",
    "axs[1, 1].set_title(\"$f(x,y)$ displayed using imshow, cmap='gray'\");\n",
    "\n",
    "### Save figure in png format.\n",
    "#---fig.savefig('contourf_imshow.png', facecolor=None, bbox_inches='tight');"
   ]
  },
  {
   "cell_type": "markdown",
   "metadata": {},
   "source": [
    "Consult the Python documentation for further visualization options, e.g., surface plots or wireframe meshes."
   ]
  },
  {
   "cell_type": "markdown",
   "metadata": {},
   "source": [
    "## Pandas basics"
   ]
  },
  {
   "cell_type": "markdown",
   "metadata": {},
   "source": [
    "It is common practice to import the Pandas library using the prefix `pd`."
   ]
  },
  {
   "cell_type": "code",
   "execution_count": 76,
   "metadata": {},
   "outputs": [],
   "source": [
    "import pandas as pd"
   ]
  },
  {
   "cell_type": "markdown",
   "metadata": {},
   "source": [
    "### Pandas Series objects"
   ]
  },
  {
   "cell_type": "markdown",
   "metadata": {},
   "source": [
    "A Pandas Series object stores a one-dimensional labeled array, similar to a Python dictionary, but amended and optimized for data science operations. Python dictionaries relate to Pandas Series objects in a similar way as Python lists relate to NumPy ndarray objects, with the former being more flexible regarding data types, and the latter being optimized for efficient numerical processing."
   ]
  },
  {
   "cell_type": "markdown",
   "metadata": {},
   "source": [
    "Python dictionaries can be converted into Pandas Series."
   ]
  },
  {
   "cell_type": "code",
   "execution_count": 77,
   "metadata": {},
   "outputs": [
    {
     "name": "stdout",
     "output_type": "stream",
     "text": [
      "Dictionary :  {'a': 10, 'b': 20, 'c': 30, 'd': 40}\n",
      "*** Keys   :  dict_keys(['a', 'b', 'c', 'd'])\n",
      "*** Values :  dict_values([10, 20, 30, 40])\n",
      "\n",
      "Series     :\n",
      "a    10\n",
      "b    20\n",
      "c    30\n",
      "d    40\n",
      "dtype: int64\n",
      "*** Index  :  Index(['a', 'b', 'c', 'd'], dtype='object')\n",
      "*** Values :  [10 20 30 40]\n"
     ]
    }
   ],
   "source": [
    "dct1 = {'a':10, 'b':20 , 'c':30, 'd':40}\n",
    "print('Dictionary : ', dct1)\n",
    "print('*** Keys   : ', dct1.keys())\n",
    "print('*** Values : ', dct1.values())\n",
    "ser1 = pd.Series(dct1)\n",
    "print('\\nSeries     :')\n",
    "print(ser1)\n",
    "print('*** Index  : ', ser1.index)\n",
    "print('*** Values : ', ser1.values)"
   ]
  },
  {
   "cell_type": "markdown",
   "metadata": {},
   "source": [
    "Pandas Series can be constructed not only from dictionaries but also from lists or ndarray objects, with the index array provided through a keyword argument of the `Series()` function. "
   ]
  },
  {
   "cell_type": "code",
   "execution_count": 78,
   "metadata": {},
   "outputs": [
    {
     "name": "stdout",
     "output_type": "stream",
     "text": [
      "a    10\n",
      "b    20\n",
      "c    30\n",
      "d    40\n",
      "dtype: int64\n"
     ]
    }
   ],
   "source": [
    "ser2 = pd.Series([10, 20, 30, 40], index=['a', 'b', 'c', 'd'])\n",
    "print(ser2)"
   ]
  },
  {
   "cell_type": "markdown",
   "metadata": {},
   "source": [
    "If a Series is defined without explicit reference to an index, it is derived from the integer positions."
   ]
  },
  {
   "cell_type": "code",
   "execution_count": 79,
   "metadata": {},
   "outputs": [
    {
     "name": "stdout",
     "output_type": "stream",
     "text": [
      "0    10\n",
      "1    20\n",
      "2    30\n",
      "3    40\n",
      "dtype: int64\n",
      "\n",
      "Index  :  RangeIndex(start=0, stop=4, step=1)\n"
     ]
    }
   ],
   "source": [
    "ser3 = pd.Series([10, 20, 30, 40])\n",
    "print(ser3)\n",
    "print('\\nIndex  : ', ser3.index)"
   ]
  },
  {
   "cell_type": "markdown",
   "metadata": {},
   "source": [
    "The most intuitive way of selecting individual elements of a Series is through the index. Slicing produces another Series object, with the end element included in the result. The `values` attribute extracts the array of elements."
   ]
  },
  {
   "cell_type": "code",
   "execution_count": 80,
   "metadata": {},
   "outputs": [
    {
     "name": "stdout",
     "output_type": "stream",
     "text": [
      "ser1['c'] :  30\n",
      "ser1['b':'d'].values :  [20 30 40]\n",
      "\n",
      "ser1['b':'d'] : \n",
      "b    20\n",
      "c    30\n",
      "d    40\n",
      "dtype: int64\n"
     ]
    }
   ],
   "source": [
    "ser1 = pd.Series({'a':10, 'b':20 , 'c':30, 'd':40})\n",
    "print(\"ser1['c'] : \", ser1['c'])\n",
    "print(\"ser1['b':'d'].values : \", ser1['b':'d'].values)\n",
    "print(\"\\nser1['b':'d'] : \")\n",
    "print(ser1['b':'d'])"
   ]
  },
  {
   "cell_type": "markdown",
   "metadata": {},
   "source": [
    "In previous versions of Pandas, series elements could also be referenced through their integer position along the index, with the usual logic of Python lists and NumPy arrays (e.g., end elements are omitted). To avoid ambiguities when keys are of integer type, this behavior is deprecated. To access a value by position, it is recommended to use `.iloc` (integer-based selection) as demonstrated below together with the `.loc` (label-based selection) method. "
   ]
  },
  {
   "cell_type": "code",
   "execution_count": 81,
   "metadata": {},
   "outputs": [
    {
     "name": "stdout",
     "output_type": "stream",
     "text": [
      "ser4 : \n",
      "1    10\n",
      "2    20\n",
      "3    30\n",
      "4    40\n",
      "dtype: int64\n",
      "ser4.loc[1:3].values  :  [10 20 30]\n",
      "ser4.iloc[1:3].values :  [20 30]\n"
     ]
    }
   ],
   "source": [
    "ser4 = pd.Series({1:10, 2:20, 3:30, 4:40})\n",
    "print(\"ser4 : \")\n",
    "print(ser4)\n",
    "print(\"ser4.loc[1:3].values  : \", ser4.loc[1:3].values)\n",
    "print(\"ser4.iloc[1:3].values : \", ser4.iloc[1:3].values)"
   ]
  },
  {
   "cell_type": "markdown",
   "metadata": {},
   "source": [
    "The referencing syntax can be applied to re-assign values, or even define a new element to th Series."
   ]
  },
  {
   "cell_type": "code",
   "execution_count": 82,
   "metadata": {},
   "outputs": [
    {
     "name": "stdout",
     "output_type": "stream",
     "text": [
      "a    10\n",
      "b    20\n",
      "c    30\n",
      "d    40\n",
      "dtype: int64\n",
      "\n",
      "a    10\n",
      "b    20\n",
      "c    33\n",
      "d    40\n",
      "e    55\n",
      "dtype: int64\n"
     ]
    }
   ],
   "source": [
    "ser5 = pd.Series({'a':10, 'b':20 , 'c':30, 'd':40})\n",
    "print(ser5)\n",
    "ser5['c'] = 33\n",
    "ser5['e'] = 55\n",
    "print()\n",
    "print(ser5)"
   ]
  },
  {
   "cell_type": "markdown",
   "metadata": {},
   "source": [
    "Operations involving two or more Series objects are naturally aligned with common elements of their index arrays. In the following example, the two Series objects `ser1` and `ser6` share the indices `a`, `c`, `d` but not `b` and `e`. The object `ser7`, defined through an operation involving both `ser1` and `ser6`, contains all index elements from both Series objects but the associated values are defined only for those indices that are shared."
   ]
  },
  {
   "cell_type": "code",
   "execution_count": 83,
   "metadata": {},
   "outputs": [
    {
     "name": "stdout",
     "output_type": "stream",
     "text": [
      "a     9.0\n",
      "b     NaN\n",
      "c    27.0\n",
      "d    36.0\n",
      "e     NaN\n",
      "dtype: float64\n"
     ]
    }
   ],
   "source": [
    "ser1 = pd.Series({'a':10, 'b':20 , 'c':30, 'd':40})\n",
    "ser6 = pd.Series({'a':1, 'c':3 , 'd':4, 'e':5})\n",
    "ser7 = ser1 - ser6\n",
    "print(ser7)"
   ]
  },
  {
   "cell_type": "markdown",
   "metadata": {},
   "source": [
    "Undefined values (`ǸaN`, not-a-number) can be eliminated from a Series by means of the `dropna()` method, with the keyword `inplace` controlling if the Series itself is altered, or a copy is produced (default behavior)."
   ]
  },
  {
   "cell_type": "code",
   "execution_count": 84,
   "metadata": {},
   "outputs": [
    {
     "name": "stdout",
     "output_type": "stream",
     "text": [
      "a     9.0\n",
      "c    27.0\n",
      "d    36.0\n",
      "dtype: float64\n"
     ]
    }
   ],
   "source": [
    "ser7.dropna(inplace=True)\n",
    "print(ser7)"
   ]
  },
  {
   "cell_type": "markdown",
   "metadata": {},
   "source": [
    "### Pandas DataFrame objects"
   ]
  },
  {
   "cell_type": "markdown",
   "metadata": {},
   "source": [
    "A Pandas DataFrame object stores a two-dimensional labeled array, producing a spreadsheet-like representation of the data. Pandas DataFrame objects can be constructed in many different ways, e.g., from a dictionary of lists or NumPy arrays having the same length. Column titles are automatically generated from the keys of the dictionary."
   ]
  },
  {
   "cell_type": "code",
   "execution_count": 85,
   "metadata": {},
   "outputs": [
    {
     "data": {
      "text/html": [
       "<div>\n",
       "<style scoped>\n",
       "    .dataframe tbody tr th:only-of-type {\n",
       "        vertical-align: middle;\n",
       "    }\n",
       "\n",
       "    .dataframe tbody tr th {\n",
       "        vertical-align: top;\n",
       "    }\n",
       "\n",
       "    .dataframe thead th {\n",
       "        text-align: right;\n",
       "    }\n",
       "</style>\n",
       "<table border=\"1\" class=\"dataframe\">\n",
       "  <thead>\n",
       "    <tr style=\"text-align: right;\">\n",
       "      <th></th>\n",
       "      <th>City</th>\n",
       "      <th>Residents in 1970</th>\n",
       "      <th>Residents in 1990</th>\n",
       "      <th>Residents in 2010</th>\n",
       "    </tr>\n",
       "  </thead>\n",
       "  <tbody>\n",
       "    <tr>\n",
       "      <th>0</th>\n",
       "      <td>Bremen</td>\n",
       "      <td>592533</td>\n",
       "      <td>551219</td>\n",
       "      <td>547340</td>\n",
       "    </tr>\n",
       "    <tr>\n",
       "      <th>1</th>\n",
       "      <td>Dresden</td>\n",
       "      <td>502432</td>\n",
       "      <td>490571</td>\n",
       "      <td>523058</td>\n",
       "    </tr>\n",
       "    <tr>\n",
       "      <th>2</th>\n",
       "      <td>Essen</td>\n",
       "      <td>696419</td>\n",
       "      <td>626973</td>\n",
       "      <td>574635</td>\n",
       "    </tr>\n",
       "    <tr>\n",
       "      <th>3</th>\n",
       "      <td>Stuttgart</td>\n",
       "      <td>634202</td>\n",
       "      <td>579988</td>\n",
       "      <td>606588</td>\n",
       "    </tr>\n",
       "  </tbody>\n",
       "</table>\n",
       "</div>"
      ],
      "text/plain": [
       "        City  Residents in 1970  Residents in 1990  Residents in 2010\n",
       "0     Bremen             592533             551219             547340\n",
       "1    Dresden             502432             490571             523058\n",
       "2      Essen             696419             626973             574635\n",
       "3  Stuttgart             634202             579988             606588"
      ]
     },
     "metadata": {},
     "output_type": "display_data"
    },
    {
     "name": "stdout",
     "output_type": "stream",
     "text": [
      "Index :  RangeIndex(start=0, stop=4, step=1)\n"
     ]
    }
   ],
   "source": [
    "df1 = pd.DataFrame({'City':['Bremen', 'Dresden', 'Essen', 'Stuttgart'],\n",
    "                    'Residents in 1970':[592533, 502432, 696419, 634202],\n",
    "                    'Residents in 1990':[551219, 490571, 626973, 579988],\n",
    "                    'Residents in 2010':[547340, 523058, 574635, 606588]})\n",
    "display(df1)\n",
    "print('Index : ', df1.index)"
   ]
  },
  {
   "cell_type": "markdown",
   "metadata": {},
   "source": [
    "Since an index is not explicitly specified, the integer positions of the list or array elements are used. As for Pandas Series, this default behavior can be changed by means of the keyword `index`."
   ]
  },
  {
   "cell_type": "code",
   "execution_count": 86,
   "metadata": {},
   "outputs": [
    {
     "data": {
      "text/html": [
       "<div>\n",
       "<style scoped>\n",
       "    .dataframe tbody tr th:only-of-type {\n",
       "        vertical-align: middle;\n",
       "    }\n",
       "\n",
       "    .dataframe tbody tr th {\n",
       "        vertical-align: top;\n",
       "    }\n",
       "\n",
       "    .dataframe thead th {\n",
       "        text-align: right;\n",
       "    }\n",
       "</style>\n",
       "<table border=\"1\" class=\"dataframe\">\n",
       "  <thead>\n",
       "    <tr style=\"text-align: right;\">\n",
       "      <th></th>\n",
       "      <th>Residents in 1970</th>\n",
       "      <th>Residents in 1990</th>\n",
       "      <th>Residents in 2010</th>\n",
       "    </tr>\n",
       "  </thead>\n",
       "  <tbody>\n",
       "    <tr>\n",
       "      <th>Bremen</th>\n",
       "      <td>592533</td>\n",
       "      <td>551219</td>\n",
       "      <td>547340</td>\n",
       "    </tr>\n",
       "    <tr>\n",
       "      <th>Dresden</th>\n",
       "      <td>502432</td>\n",
       "      <td>490571</td>\n",
       "      <td>523058</td>\n",
       "    </tr>\n",
       "    <tr>\n",
       "      <th>Essen</th>\n",
       "      <td>696419</td>\n",
       "      <td>626973</td>\n",
       "      <td>574635</td>\n",
       "    </tr>\n",
       "    <tr>\n",
       "      <th>Stuttgart</th>\n",
       "      <td>634202</td>\n",
       "      <td>579988</td>\n",
       "      <td>606588</td>\n",
       "    </tr>\n",
       "  </tbody>\n",
       "</table>\n",
       "</div>"
      ],
      "text/plain": [
       "           Residents in 1970  Residents in 1990  Residents in 2010\n",
       "Bremen                592533             551219             547340\n",
       "Dresden               502432             490571             523058\n",
       "Essen                 696419             626973             574635\n",
       "Stuttgart             634202             579988             606588"
      ]
     },
     "metadata": {},
     "output_type": "display_data"
    },
    {
     "name": "stdout",
     "output_type": "stream",
     "text": [
      "Index :  Index(['Bremen', 'Dresden', 'Essen', 'Stuttgart'], dtype='object')\n"
     ]
    }
   ],
   "source": [
    "df2 = pd.DataFrame({'Residents in 1970':[592533, 502432, 696419, 634202],\n",
    "                    'Residents in 1990':[551219, 490571, 626973, 579988],\n",
    "                    'Residents in 2010':[547340, 523058, 574635, 606588]},\n",
    "                   index=['Bremen', 'Dresden', 'Essen', 'Stuttgart'])\n",
    "display(df2)\n",
    "print('Index : ', df2.index)"
   ]
  },
  {
   "cell_type": "markdown",
   "metadata": {},
   "source": [
    "The (named) columns of a DataFrame can be understood as individual Pandas Series with shared index arrays."
   ]
  },
  {
   "cell_type": "code",
   "execution_count": 87,
   "metadata": {},
   "outputs": [
    {
     "data": {
      "text/html": [
       "<div>\n",
       "<style scoped>\n",
       "    .dataframe tbody tr th:only-of-type {\n",
       "        vertical-align: middle;\n",
       "    }\n",
       "\n",
       "    .dataframe tbody tr th {\n",
       "        vertical-align: top;\n",
       "    }\n",
       "\n",
       "    .dataframe thead th {\n",
       "        text-align: right;\n",
       "    }\n",
       "</style>\n",
       "<table border=\"1\" class=\"dataframe\">\n",
       "  <thead>\n",
       "    <tr style=\"text-align: right;\">\n",
       "      <th></th>\n",
       "      <th>Residents in 1970</th>\n",
       "      <th>Residents in 1990</th>\n",
       "      <th>Residents in 2010</th>\n",
       "    </tr>\n",
       "  </thead>\n",
       "  <tbody>\n",
       "    <tr>\n",
       "      <th>Bremen</th>\n",
       "      <td>592533</td>\n",
       "      <td>551219</td>\n",
       "      <td>547340</td>\n",
       "    </tr>\n",
       "    <tr>\n",
       "      <th>Dresden</th>\n",
       "      <td>502432</td>\n",
       "      <td>490571</td>\n",
       "      <td>523058</td>\n",
       "    </tr>\n",
       "    <tr>\n",
       "      <th>Essen</th>\n",
       "      <td>696419</td>\n",
       "      <td>626973</td>\n",
       "      <td>574635</td>\n",
       "    </tr>\n",
       "    <tr>\n",
       "      <th>Stuttgart</th>\n",
       "      <td>634202</td>\n",
       "      <td>579988</td>\n",
       "      <td>606588</td>\n",
       "    </tr>\n",
       "  </tbody>\n",
       "</table>\n",
       "</div>"
      ],
      "text/plain": [
       "           Residents in 1970  Residents in 1990  Residents in 2010\n",
       "Bremen                592533             551219             547340\n",
       "Dresden               502432             490571             523058\n",
       "Essen                 696419             626973             574635\n",
       "Stuttgart             634202             579988             606588"
      ]
     },
     "metadata": {},
     "output_type": "display_data"
    },
    {
     "name": "stdout",
     "output_type": "stream",
     "text": [
      "Index :  Index(['Bremen', 'Dresden', 'Essen', 'Stuttgart'], dtype='object')\n"
     ]
    }
   ],
   "source": [
    "cities = ['Bremen', 'Dresden', 'Essen', 'Stuttgart']\n",
    "ser1970 = pd.Series([592533, 502432, 696419, 634202], index=cities)\n",
    "ser1990 = pd.Series([551219, 490571, 626973, 579988], index=cities)\n",
    "ser2010 = pd.Series([547340, 523058, 574635, 606588], index=cities)\n",
    "df3 = pd.DataFrame({'Residents in 1970':ser1970,\n",
    "                    'Residents in 1990':ser1990,\n",
    "                    'Residents in 2010':ser2010})\n",
    "display(df3)\n",
    "print('Index : ', df3.index)"
   ]
  },
  {
   "cell_type": "markdown",
   "metadata": {},
   "source": [
    "If the data are available as a two-dimensional array, a DataFrame object can be constructed by specifying the titles of both the rows (keyword `index`) and the columns (keyword `columns`)."
   ]
  },
  {
   "cell_type": "code",
   "execution_count": 89,
   "metadata": {},
   "outputs": [
    {
     "data": {
      "text/html": [
       "<div>\n",
       "<style scoped>\n",
       "    .dataframe tbody tr th:only-of-type {\n",
       "        vertical-align: middle;\n",
       "    }\n",
       "\n",
       "    .dataframe tbody tr th {\n",
       "        vertical-align: top;\n",
       "    }\n",
       "\n",
       "    .dataframe thead th {\n",
       "        text-align: right;\n",
       "    }\n",
       "</style>\n",
       "<table border=\"1\" class=\"dataframe\">\n",
       "  <thead>\n",
       "    <tr style=\"text-align: right;\">\n",
       "      <th></th>\n",
       "      <th>Residents in 1970</th>\n",
       "      <th>Residents in 1990</th>\n",
       "      <th>Residents in 2010</th>\n",
       "    </tr>\n",
       "  </thead>\n",
       "  <tbody>\n",
       "    <tr>\n",
       "      <th>Bremen</th>\n",
       "      <td>592533</td>\n",
       "      <td>551219</td>\n",
       "      <td>547340</td>\n",
       "    </tr>\n",
       "    <tr>\n",
       "      <th>Dresden</th>\n",
       "      <td>502432</td>\n",
       "      <td>490571</td>\n",
       "      <td>523058</td>\n",
       "    </tr>\n",
       "    <tr>\n",
       "      <th>Essen</th>\n",
       "      <td>696419</td>\n",
       "      <td>626973</td>\n",
       "      <td>574635</td>\n",
       "    </tr>\n",
       "    <tr>\n",
       "      <th>Stuttgart</th>\n",
       "      <td>634202</td>\n",
       "      <td>579988</td>\n",
       "      <td>606588</td>\n",
       "    </tr>\n",
       "  </tbody>\n",
       "</table>\n",
       "</div>"
      ],
      "text/plain": [
       "           Residents in 1970  Residents in 1990  Residents in 2010\n",
       "Bremen                592533             551219             547340\n",
       "Dresden               502432             490571             523058\n",
       "Essen                 696419             626973             574635\n",
       "Stuttgart             634202             579988             606588"
      ]
     },
     "metadata": {},
     "output_type": "display_data"
    }
   ],
   "source": [
    "res2d = np.array([[592533, 551219, 547340],\n",
    "                  [502432, 490571, 523058],\n",
    "                  [696419, 626973, 574635],\n",
    "                  [634202, 579988, 606588]])\n",
    "df4 = pd.DataFrame(res2d, index=['Bremen', 'Dresden', 'Essen', 'Stuttgart'],\n",
    "                   columns=['Residents in 1970', 'Residents in 1990', 'Residents in 2010'])\n",
    "display(df4)"
   ]
  },
  {
   "cell_type": "markdown",
   "metadata": {},
   "source": [
    "Results of operations on columns can be easily included in the DataFrame. In the following example, the percentage changes 1970-1990 and 1990-2010 are computed and included in the DataFrame as two additional columns."
   ]
  },
  {
   "cell_type": "code",
   "execution_count": 91,
   "metadata": {},
   "outputs": [
    {
     "data": {
      "text/html": [
       "<div>\n",
       "<style scoped>\n",
       "    .dataframe tbody tr th:only-of-type {\n",
       "        vertical-align: middle;\n",
       "    }\n",
       "\n",
       "    .dataframe tbody tr th {\n",
       "        vertical-align: top;\n",
       "    }\n",
       "\n",
       "    .dataframe thead th {\n",
       "        text-align: right;\n",
       "    }\n",
       "</style>\n",
       "<table border=\"1\" class=\"dataframe\">\n",
       "  <thead>\n",
       "    <tr style=\"text-align: right;\">\n",
       "      <th></th>\n",
       "      <th>Residents in 1970</th>\n",
       "      <th>Residents in 1990</th>\n",
       "      <th>Residents in 2010</th>\n",
       "      <th>Change 1970-1990 [%]</th>\n",
       "      <th>Change 1990-2010 [%]</th>\n",
       "    </tr>\n",
       "  </thead>\n",
       "  <tbody>\n",
       "    <tr>\n",
       "      <th>Bremen</th>\n",
       "      <td>592533</td>\n",
       "      <td>551219</td>\n",
       "      <td>547340</td>\n",
       "      <td>-6.972439</td>\n",
       "      <td>-0.703713</td>\n",
       "    </tr>\n",
       "    <tr>\n",
       "      <th>Dresden</th>\n",
       "      <td>502432</td>\n",
       "      <td>490571</td>\n",
       "      <td>523058</td>\n",
       "      <td>-2.360717</td>\n",
       "      <td>6.622283</td>\n",
       "    </tr>\n",
       "    <tr>\n",
       "      <th>Essen</th>\n",
       "      <td>696419</td>\n",
       "      <td>626973</td>\n",
       "      <td>574635</td>\n",
       "      <td>-9.971870</td>\n",
       "      <td>-8.347728</td>\n",
       "    </tr>\n",
       "    <tr>\n",
       "      <th>Stuttgart</th>\n",
       "      <td>634202</td>\n",
       "      <td>579988</td>\n",
       "      <td>606588</td>\n",
       "      <td>-8.548380</td>\n",
       "      <td>4.586302</td>\n",
       "    </tr>\n",
       "  </tbody>\n",
       "</table>\n",
       "</div>"
      ],
      "text/plain": [
       "           Residents in 1970  Residents in 1990  Residents in 2010  \\\n",
       "Bremen                592533             551219             547340   \n",
       "Dresden               502432             490571             523058   \n",
       "Essen                 696419             626973             574635   \n",
       "Stuttgart             634202             579988             606588   \n",
       "\n",
       "           Change 1970-1990 [%]  Change 1990-2010 [%]  \n",
       "Bremen                -6.972439             -0.703713  \n",
       "Dresden               -2.360717              6.622283  \n",
       "Essen                 -9.971870             -8.347728  \n",
       "Stuttgart             -8.548380              4.586302  "
      ]
     },
     "metadata": {},
     "output_type": "display_data"
    }
   ],
   "source": [
    "df5 = pd.DataFrame(res2d, index=['Bremen', 'Dresden', 'Essen', 'Stuttgart'],\n",
    "                   columns=['Residents in 1970', 'Residents in 1990', 'Residents in 2010'])\n",
    "df5['Change 1970-1990 [%]'] = 100 * (df5['Residents in 1990'] - df5['Residents in 1970'])\\\n",
    "                                  / df5['Residents in 1970']\n",
    "df5['Change 1990-2010 [%]'] = 100 * (df5['Residents in 2010'] - df5['Residents in 1990'])\\\n",
    "                                  / df5['Residents in 1990']\n",
    "display(df5)"
   ]
  },
  {
   "cell_type": "markdown",
   "metadata": {},
   "source": [
    "Pandas DataFrame objects can be constructed directly from data files in a variety of formats. See, e.g., the documentation of the Pandas functions `read_csv()`, `read_excel()`, `read_sql()`."
   ]
  },
  {
   "cell_type": "markdown",
   "metadata": {},
   "source": [
    "Element selection in Pandas DataFrame objects is demonstrated using the following example."
   ]
  },
  {
   "cell_type": "code",
   "execution_count": 93,
   "metadata": {},
   "outputs": [
    {
     "data": {
      "text/html": [
       "<div>\n",
       "<style scoped>\n",
       "    .dataframe tbody tr th:only-of-type {\n",
       "        vertical-align: middle;\n",
       "    }\n",
       "\n",
       "    .dataframe tbody tr th {\n",
       "        vertical-align: top;\n",
       "    }\n",
       "\n",
       "    .dataframe thead th {\n",
       "        text-align: right;\n",
       "    }\n",
       "</style>\n",
       "<table border=\"1\" class=\"dataframe\">\n",
       "  <thead>\n",
       "    <tr style=\"text-align: right;\">\n",
       "      <th></th>\n",
       "      <th>A</th>\n",
       "      <th>B</th>\n",
       "      <th>C</th>\n",
       "      <th>D</th>\n",
       "      <th>E</th>\n",
       "    </tr>\n",
       "  </thead>\n",
       "  <tbody>\n",
       "    <tr>\n",
       "      <th>one</th>\n",
       "      <td>0</td>\n",
       "      <td>1</td>\n",
       "      <td>2</td>\n",
       "      <td>3</td>\n",
       "      <td>4</td>\n",
       "    </tr>\n",
       "    <tr>\n",
       "      <th>two</th>\n",
       "      <td>5</td>\n",
       "      <td>6</td>\n",
       "      <td>7</td>\n",
       "      <td>8</td>\n",
       "      <td>9</td>\n",
       "    </tr>\n",
       "    <tr>\n",
       "      <th>three</th>\n",
       "      <td>10</td>\n",
       "      <td>11</td>\n",
       "      <td>12</td>\n",
       "      <td>13</td>\n",
       "      <td>14</td>\n",
       "    </tr>\n",
       "  </tbody>\n",
       "</table>\n",
       "</div>"
      ],
      "text/plain": [
       "        A   B   C   D   E\n",
       "one     0   1   2   3   4\n",
       "two     5   6   7   8   9\n",
       "three  10  11  12  13  14"
      ]
     },
     "metadata": {},
     "output_type": "display_data"
    }
   ],
   "source": [
    "arr2d = np.arange(15).reshape(3, 5)\n",
    "df6 = pd.DataFrame(arr2d, index=['one', 'two', 'three'], columns=['A', 'B', 'C', 'D', 'E'])\n",
    "display(df6)"
   ]
  },
  {
   "cell_type": "markdown",
   "metadata": {},
   "source": [
    "To select a *single column* from a Pandas DataFrame, it suffices to index it with the corresponding label, i.e., to enter the label in square brackets. The result is returned as a Pandas Series."
   ]
  },
  {
   "cell_type": "code",
   "execution_count": 94,
   "metadata": {},
   "outputs": [
    {
     "data": {
      "text/plain": [
       "one       1\n",
       "two       6\n",
       "three    11\n",
       "Name: B, dtype: int64"
      ]
     },
     "metadata": {},
     "output_type": "display_data"
    }
   ],
   "source": [
    "display(df6['B'])"
   ]
  },
  {
   "cell_type": "markdown",
   "metadata": {},
   "source": [
    "While entering a single label in square brackets (*indexing*) selects a column, a range of labels (*slicing*) affects the rows."
   ]
  },
  {
   "cell_type": "code",
   "execution_count": 95,
   "metadata": {},
   "outputs": [
    {
     "data": {
      "text/html": [
       "<div>\n",
       "<style scoped>\n",
       "    .dataframe tbody tr th:only-of-type {\n",
       "        vertical-align: middle;\n",
       "    }\n",
       "\n",
       "    .dataframe tbody tr th {\n",
       "        vertical-align: top;\n",
       "    }\n",
       "\n",
       "    .dataframe thead th {\n",
       "        text-align: right;\n",
       "    }\n",
       "</style>\n",
       "<table border=\"1\" class=\"dataframe\">\n",
       "  <thead>\n",
       "    <tr style=\"text-align: right;\">\n",
       "      <th></th>\n",
       "      <th>A</th>\n",
       "      <th>B</th>\n",
       "      <th>C</th>\n",
       "      <th>D</th>\n",
       "      <th>E</th>\n",
       "    </tr>\n",
       "  </thead>\n",
       "  <tbody>\n",
       "    <tr>\n",
       "      <th>one</th>\n",
       "      <td>0</td>\n",
       "      <td>1</td>\n",
       "      <td>2</td>\n",
       "      <td>3</td>\n",
       "      <td>4</td>\n",
       "    </tr>\n",
       "    <tr>\n",
       "      <th>two</th>\n",
       "      <td>5</td>\n",
       "      <td>6</td>\n",
       "      <td>7</td>\n",
       "      <td>8</td>\n",
       "      <td>9</td>\n",
       "    </tr>\n",
       "  </tbody>\n",
       "</table>\n",
       "</div>"
      ],
      "text/plain": [
       "     A  B  C  D  E\n",
       "one  0  1  2  3  4\n",
       "two  5  6  7  8  9"
      ]
     },
     "metadata": {},
     "output_type": "display_data"
    }
   ],
   "source": [
    "display(df6['one':'two'])"
   ]
  },
  {
   "cell_type": "markdown",
   "metadata": {},
   "source": [
    "For more general selections based on labels (for both rows and columns), apply the `.loc` method, accepting row (index) and column specifications separated by a comma in a variety of formats. One may also specify lists of column or rows, or boolean masks. In the following code cell, uncomment individual lines to see the effects of the selection."
   ]
  },
  {
   "cell_type": "code",
   "execution_count": 97,
   "metadata": {},
   "outputs": [
    {
     "data": {
      "text/plain": [
       "one       1\n",
       "two       6\n",
       "three    11\n",
       "Name: B, dtype: int64"
      ]
     },
     "metadata": {},
     "output_type": "display_data"
    },
    {
     "data": {
      "text/html": [
       "<div>\n",
       "<style scoped>\n",
       "    .dataframe tbody tr th:only-of-type {\n",
       "        vertical-align: middle;\n",
       "    }\n",
       "\n",
       "    .dataframe tbody tr th {\n",
       "        vertical-align: top;\n",
       "    }\n",
       "\n",
       "    .dataframe thead th {\n",
       "        text-align: right;\n",
       "    }\n",
       "</style>\n",
       "<table border=\"1\" class=\"dataframe\">\n",
       "  <thead>\n",
       "    <tr style=\"text-align: right;\">\n",
       "      <th></th>\n",
       "      <th>B</th>\n",
       "      <th>C</th>\n",
       "      <th>D</th>\n",
       "    </tr>\n",
       "  </thead>\n",
       "  <tbody>\n",
       "    <tr>\n",
       "      <th>one</th>\n",
       "      <td>1</td>\n",
       "      <td>2</td>\n",
       "      <td>3</td>\n",
       "    </tr>\n",
       "    <tr>\n",
       "      <th>two</th>\n",
       "      <td>6</td>\n",
       "      <td>7</td>\n",
       "      <td>8</td>\n",
       "    </tr>\n",
       "    <tr>\n",
       "      <th>three</th>\n",
       "      <td>11</td>\n",
       "      <td>12</td>\n",
       "      <td>13</td>\n",
       "    </tr>\n",
       "  </tbody>\n",
       "</table>\n",
       "</div>"
      ],
      "text/plain": [
       "        B   C   D\n",
       "one     1   2   3\n",
       "two     6   7   8\n",
       "three  11  12  13"
      ]
     },
     "metadata": {},
     "output_type": "display_data"
    },
    {
     "data": {
      "text/plain": [
       "A    0\n",
       "B    1\n",
       "C    2\n",
       "D    3\n",
       "E    4\n",
       "Name: one, dtype: int64"
      ]
     },
     "metadata": {},
     "output_type": "display_data"
    },
    {
     "data": {
      "text/html": [
       "<div>\n",
       "<style scoped>\n",
       "    .dataframe tbody tr th:only-of-type {\n",
       "        vertical-align: middle;\n",
       "    }\n",
       "\n",
       "    .dataframe tbody tr th {\n",
       "        vertical-align: top;\n",
       "    }\n",
       "\n",
       "    .dataframe thead th {\n",
       "        text-align: right;\n",
       "    }\n",
       "</style>\n",
       "<table border=\"1\" class=\"dataframe\">\n",
       "  <thead>\n",
       "    <tr style=\"text-align: right;\">\n",
       "      <th></th>\n",
       "      <th>A</th>\n",
       "      <th>B</th>\n",
       "      <th>C</th>\n",
       "      <th>D</th>\n",
       "      <th>E</th>\n",
       "    </tr>\n",
       "  </thead>\n",
       "  <tbody>\n",
       "    <tr>\n",
       "      <th>one</th>\n",
       "      <td>0</td>\n",
       "      <td>1</td>\n",
       "      <td>2</td>\n",
       "      <td>3</td>\n",
       "      <td>4</td>\n",
       "    </tr>\n",
       "    <tr>\n",
       "      <th>two</th>\n",
       "      <td>5</td>\n",
       "      <td>6</td>\n",
       "      <td>7</td>\n",
       "      <td>8</td>\n",
       "      <td>9</td>\n",
       "    </tr>\n",
       "  </tbody>\n",
       "</table>\n",
       "</div>"
      ],
      "text/plain": [
       "     A  B  C  D  E\n",
       "one  0  1  2  3  4\n",
       "two  5  6  7  8  9"
      ]
     },
     "metadata": {},
     "output_type": "display_data"
    },
    {
     "data": {
      "text/html": [
       "<div>\n",
       "<style scoped>\n",
       "    .dataframe tbody tr th:only-of-type {\n",
       "        vertical-align: middle;\n",
       "    }\n",
       "\n",
       "    .dataframe tbody tr th {\n",
       "        vertical-align: top;\n",
       "    }\n",
       "\n",
       "    .dataframe thead th {\n",
       "        text-align: right;\n",
       "    }\n",
       "</style>\n",
       "<table border=\"1\" class=\"dataframe\">\n",
       "  <thead>\n",
       "    <tr style=\"text-align: right;\">\n",
       "      <th></th>\n",
       "      <th>B</th>\n",
       "      <th>C</th>\n",
       "      <th>D</th>\n",
       "    </tr>\n",
       "  </thead>\n",
       "  <tbody>\n",
       "    <tr>\n",
       "      <th>one</th>\n",
       "      <td>1</td>\n",
       "      <td>2</td>\n",
       "      <td>3</td>\n",
       "    </tr>\n",
       "    <tr>\n",
       "      <th>two</th>\n",
       "      <td>6</td>\n",
       "      <td>7</td>\n",
       "      <td>8</td>\n",
       "    </tr>\n",
       "  </tbody>\n",
       "</table>\n",
       "</div>"
      ],
      "text/plain": [
       "     B  C  D\n",
       "one  1  2  3\n",
       "two  6  7  8"
      ]
     },
     "metadata": {},
     "output_type": "display_data"
    },
    {
     "data": {
      "text/html": [
       "<div>\n",
       "<style scoped>\n",
       "    .dataframe tbody tr th:only-of-type {\n",
       "        vertical-align: middle;\n",
       "    }\n",
       "\n",
       "    .dataframe tbody tr th {\n",
       "        vertical-align: top;\n",
       "    }\n",
       "\n",
       "    .dataframe thead th {\n",
       "        text-align: right;\n",
       "    }\n",
       "</style>\n",
       "<table border=\"1\" class=\"dataframe\">\n",
       "  <thead>\n",
       "    <tr style=\"text-align: right;\">\n",
       "      <th></th>\n",
       "      <th>B</th>\n",
       "      <th>D</th>\n",
       "    </tr>\n",
       "  </thead>\n",
       "  <tbody>\n",
       "    <tr>\n",
       "      <th>one</th>\n",
       "      <td>1</td>\n",
       "      <td>3</td>\n",
       "    </tr>\n",
       "    <tr>\n",
       "      <th>two</th>\n",
       "      <td>6</td>\n",
       "      <td>8</td>\n",
       "    </tr>\n",
       "  </tbody>\n",
       "</table>\n",
       "</div>"
      ],
      "text/plain": [
       "     B  D\n",
       "one  1  3\n",
       "two  6  8"
      ]
     },
     "metadata": {},
     "output_type": "display_data"
    },
    {
     "data": {
      "text/html": [
       "<div>\n",
       "<style scoped>\n",
       "    .dataframe tbody tr th:only-of-type {\n",
       "        vertical-align: middle;\n",
       "    }\n",
       "\n",
       "    .dataframe tbody tr th {\n",
       "        vertical-align: top;\n",
       "    }\n",
       "\n",
       "    .dataframe thead th {\n",
       "        text-align: right;\n",
       "    }\n",
       "</style>\n",
       "<table border=\"1\" class=\"dataframe\">\n",
       "  <thead>\n",
       "    <tr style=\"text-align: right;\">\n",
       "      <th></th>\n",
       "      <th>A</th>\n",
       "      <th>B</th>\n",
       "      <th>C</th>\n",
       "      <th>D</th>\n",
       "      <th>E</th>\n",
       "    </tr>\n",
       "  </thead>\n",
       "  <tbody>\n",
       "    <tr>\n",
       "      <th>two</th>\n",
       "      <td>5</td>\n",
       "      <td>6</td>\n",
       "      <td>7</td>\n",
       "      <td>8</td>\n",
       "      <td>9</td>\n",
       "    </tr>\n",
       "    <tr>\n",
       "      <th>three</th>\n",
       "      <td>10</td>\n",
       "      <td>11</td>\n",
       "      <td>12</td>\n",
       "      <td>13</td>\n",
       "      <td>14</td>\n",
       "    </tr>\n",
       "  </tbody>\n",
       "</table>\n",
       "</div>"
      ],
      "text/plain": [
       "        A   B   C   D   E\n",
       "two     5   6   7   8   9\n",
       "three  10  11  12  13  14"
      ]
     },
     "metadata": {},
     "output_type": "display_data"
    }
   ],
   "source": [
    "display(df6.loc[:, 'B'])                 #.. Single column returned as a Series.\n",
    "display(df6.loc[:, 'B':'D'])             #.. Range of columns returned as a DataFrame.\n",
    "display(df6.loc['one', :])               #.. Single row returned as a Series.\n",
    "display(df6.loc['one':'two', :])         #.. Range of rows returned as a DataFrame.\n",
    "display(df6.loc['one':'two', 'B':'D'])   #.. Sub-array returned as a DataFrame.\n",
    "display(df6.loc['one':'two', ['B','D']]) #.. Sub-array returned as a DataFrame.\n",
    "display(df6.loc[df6['B']>3, :])          #.. Select rows where df['B']>3."
   ]
  },
  {
   "cell_type": "markdown",
   "metadata": {},
   "source": [
    "Selections based on the integer positions within a Pandas DataFrame are accomplished by the `.iloc` method.  In the following code cell, uncomment individual lines and observe the results."
   ]
  },
  {
   "cell_type": "code",
   "execution_count": 98,
   "metadata": {},
   "outputs": [
    {
     "data": {
      "text/plain": [
       "one       1\n",
       "two       6\n",
       "three    11\n",
       "Name: B, dtype: int64"
      ]
     },
     "metadata": {},
     "output_type": "display_data"
    },
    {
     "data": {
      "text/html": [
       "<div>\n",
       "<style scoped>\n",
       "    .dataframe tbody tr th:only-of-type {\n",
       "        vertical-align: middle;\n",
       "    }\n",
       "\n",
       "    .dataframe tbody tr th {\n",
       "        vertical-align: top;\n",
       "    }\n",
       "\n",
       "    .dataframe thead th {\n",
       "        text-align: right;\n",
       "    }\n",
       "</style>\n",
       "<table border=\"1\" class=\"dataframe\">\n",
       "  <thead>\n",
       "    <tr style=\"text-align: right;\">\n",
       "      <th></th>\n",
       "      <th>B</th>\n",
       "      <th>C</th>\n",
       "      <th>D</th>\n",
       "    </tr>\n",
       "  </thead>\n",
       "  <tbody>\n",
       "    <tr>\n",
       "      <th>one</th>\n",
       "      <td>1</td>\n",
       "      <td>2</td>\n",
       "      <td>3</td>\n",
       "    </tr>\n",
       "    <tr>\n",
       "      <th>two</th>\n",
       "      <td>6</td>\n",
       "      <td>7</td>\n",
       "      <td>8</td>\n",
       "    </tr>\n",
       "    <tr>\n",
       "      <th>three</th>\n",
       "      <td>11</td>\n",
       "      <td>12</td>\n",
       "      <td>13</td>\n",
       "    </tr>\n",
       "  </tbody>\n",
       "</table>\n",
       "</div>"
      ],
      "text/plain": [
       "        B   C   D\n",
       "one     1   2   3\n",
       "two     6   7   8\n",
       "three  11  12  13"
      ]
     },
     "metadata": {},
     "output_type": "display_data"
    },
    {
     "data": {
      "text/plain": [
       "A    0\n",
       "B    1\n",
       "C    2\n",
       "D    3\n",
       "E    4\n",
       "Name: one, dtype: int64"
      ]
     },
     "metadata": {},
     "output_type": "display_data"
    },
    {
     "data": {
      "text/html": [
       "<div>\n",
       "<style scoped>\n",
       "    .dataframe tbody tr th:only-of-type {\n",
       "        vertical-align: middle;\n",
       "    }\n",
       "\n",
       "    .dataframe tbody tr th {\n",
       "        vertical-align: top;\n",
       "    }\n",
       "\n",
       "    .dataframe thead th {\n",
       "        text-align: right;\n",
       "    }\n",
       "</style>\n",
       "<table border=\"1\" class=\"dataframe\">\n",
       "  <thead>\n",
       "    <tr style=\"text-align: right;\">\n",
       "      <th></th>\n",
       "      <th>A</th>\n",
       "      <th>B</th>\n",
       "      <th>C</th>\n",
       "      <th>D</th>\n",
       "      <th>E</th>\n",
       "    </tr>\n",
       "  </thead>\n",
       "  <tbody>\n",
       "    <tr>\n",
       "      <th>one</th>\n",
       "      <td>0</td>\n",
       "      <td>1</td>\n",
       "      <td>2</td>\n",
       "      <td>3</td>\n",
       "      <td>4</td>\n",
       "    </tr>\n",
       "    <tr>\n",
       "      <th>two</th>\n",
       "      <td>5</td>\n",
       "      <td>6</td>\n",
       "      <td>7</td>\n",
       "      <td>8</td>\n",
       "      <td>9</td>\n",
       "    </tr>\n",
       "  </tbody>\n",
       "</table>\n",
       "</div>"
      ],
      "text/plain": [
       "     A  B  C  D  E\n",
       "one  0  1  2  3  4\n",
       "two  5  6  7  8  9"
      ]
     },
     "metadata": {},
     "output_type": "display_data"
    },
    {
     "data": {
      "text/html": [
       "<div>\n",
       "<style scoped>\n",
       "    .dataframe tbody tr th:only-of-type {\n",
       "        vertical-align: middle;\n",
       "    }\n",
       "\n",
       "    .dataframe tbody tr th {\n",
       "        vertical-align: top;\n",
       "    }\n",
       "\n",
       "    .dataframe thead th {\n",
       "        text-align: right;\n",
       "    }\n",
       "</style>\n",
       "<table border=\"1\" class=\"dataframe\">\n",
       "  <thead>\n",
       "    <tr style=\"text-align: right;\">\n",
       "      <th></th>\n",
       "      <th>B</th>\n",
       "      <th>C</th>\n",
       "      <th>D</th>\n",
       "    </tr>\n",
       "  </thead>\n",
       "  <tbody>\n",
       "    <tr>\n",
       "      <th>one</th>\n",
       "      <td>1</td>\n",
       "      <td>2</td>\n",
       "      <td>3</td>\n",
       "    </tr>\n",
       "    <tr>\n",
       "      <th>two</th>\n",
       "      <td>6</td>\n",
       "      <td>7</td>\n",
       "      <td>8</td>\n",
       "    </tr>\n",
       "  </tbody>\n",
       "</table>\n",
       "</div>"
      ],
      "text/plain": [
       "     B  C  D\n",
       "one  1  2  3\n",
       "two  6  7  8"
      ]
     },
     "metadata": {},
     "output_type": "display_data"
    }
   ],
   "source": [
    "display(df6.iloc[:, 1])     #.. Single column returned as a Series.\n",
    "display(df6.iloc[:, 1:4])   #.. Range of columns returned as a DataFrame.\n",
    "display(df6.iloc[0, :])     #.. Single row returned as a Series.\n",
    "display(df6.iloc[:-1, :])   #.. Range of rows returned as a DataFrame.\n",
    "display(df6.iloc[:-1, 1:4]) #.. Sub-array returned as a DataFrame."
   ]
  },
  {
   "cell_type": "markdown",
   "metadata": {},
   "source": [
    "Further options for selecting elements of a DataFrame are the `.at`, `.iat`, `.ix` methods, see the Pandas documentation."
   ]
  },
  {
   "cell_type": "markdown",
   "metadata": {},
   "source": [
    "The Pandas package builds on the NumPy module with its efficient array handling and numerical operations. NumPy universal functions can be applied to Pandas objects in accordance with requirements regarding their indices (index preservation and alignment)."
   ]
  },
  {
   "cell_type": "code",
   "execution_count": 99,
   "metadata": {},
   "outputs": [
    {
     "data": {
      "text/html": [
       "<div>\n",
       "<style scoped>\n",
       "    .dataframe tbody tr th:only-of-type {\n",
       "        vertical-align: middle;\n",
       "    }\n",
       "\n",
       "    .dataframe tbody tr th {\n",
       "        vertical-align: top;\n",
       "    }\n",
       "\n",
       "    .dataframe thead th {\n",
       "        text-align: right;\n",
       "    }\n",
       "</style>\n",
       "<table border=\"1\" class=\"dataframe\">\n",
       "  <thead>\n",
       "    <tr style=\"text-align: right;\">\n",
       "      <th></th>\n",
       "      <th>x</th>\n",
       "      <th>y</th>\n",
       "      <th>sqrt(x)</th>\n",
       "      <th>sin(pi*x/4)</th>\n",
       "      <th>exp(-y)</th>\n",
       "      <th>y^2-x^2</th>\n",
       "    </tr>\n",
       "  </thead>\n",
       "  <tbody>\n",
       "    <tr>\n",
       "      <th>a</th>\n",
       "      <td>0</td>\n",
       "      <td>1</td>\n",
       "      <td>0.000000</td>\n",
       "      <td>0.000000e+00</td>\n",
       "      <td>0.367879</td>\n",
       "      <td>1</td>\n",
       "    </tr>\n",
       "    <tr>\n",
       "      <th>b</th>\n",
       "      <td>2</td>\n",
       "      <td>3</td>\n",
       "      <td>1.414214</td>\n",
       "      <td>1.000000e+00</td>\n",
       "      <td>0.049787</td>\n",
       "      <td>5</td>\n",
       "    </tr>\n",
       "    <tr>\n",
       "      <th>c</th>\n",
       "      <td>4</td>\n",
       "      <td>5</td>\n",
       "      <td>2.000000</td>\n",
       "      <td>1.224647e-16</td>\n",
       "      <td>0.006738</td>\n",
       "      <td>9</td>\n",
       "    </tr>\n",
       "    <tr>\n",
       "      <th>d</th>\n",
       "      <td>6</td>\n",
       "      <td>7</td>\n",
       "      <td>2.449490</td>\n",
       "      <td>-1.000000e+00</td>\n",
       "      <td>0.000912</td>\n",
       "      <td>13</td>\n",
       "    </tr>\n",
       "  </tbody>\n",
       "</table>\n",
       "</div>"
      ],
      "text/plain": [
       "   x  y   sqrt(x)   sin(pi*x/4)   exp(-y)  y^2-x^2\n",
       "a  0  1  0.000000  0.000000e+00  0.367879        1\n",
       "b  2  3  1.414214  1.000000e+00  0.049787        5\n",
       "c  4  5  2.000000  1.224647e-16  0.006738        9\n",
       "d  6  7  2.449490 -1.000000e+00  0.000912       13"
      ]
     },
     "metadata": {},
     "output_type": "display_data"
    }
   ],
   "source": [
    "arr1d = np.arange(8).reshape(4, 2)\n",
    "df7 = pd.DataFrame(arr1d, index=['a', 'b', 'c', 'd'], columns=['x', 'y'])\n",
    "df7['sqrt(x)'] = np.sqrt(df7['x'])\n",
    "df7['sin(pi*x/4)'] = np.sin(np.pi*df7['x']/4)\n",
    "df7['exp(-y)'] = np.exp(-df7['y'])\n",
    "df7['y^2-x^2'] = df7['y']**2 - df7['x']**2\n",
    "display(df7)"
   ]
  },
  {
   "cell_type": "markdown",
   "metadata": {},
   "source": [
    "The concepts of index preservation and alignment are demonstrated also in the following example where two Pandas Series with non-identical index arrays are combined into a DataFrame. Missing values (`NaN`) are naturally propagated in the operations."
   ]
  },
  {
   "cell_type": "code",
   "execution_count": 100,
   "metadata": {},
   "outputs": [
    {
     "data": {
      "text/html": [
       "<div>\n",
       "<style scoped>\n",
       "    .dataframe tbody tr th:only-of-type {\n",
       "        vertical-align: middle;\n",
       "    }\n",
       "\n",
       "    .dataframe tbody tr th {\n",
       "        vertical-align: top;\n",
       "    }\n",
       "\n",
       "    .dataframe thead th {\n",
       "        text-align: right;\n",
       "    }\n",
       "</style>\n",
       "<table border=\"1\" class=\"dataframe\">\n",
       "  <thead>\n",
       "    <tr style=\"text-align: right;\">\n",
       "      <th></th>\n",
       "      <th>x</th>\n",
       "      <th>y</th>\n",
       "      <th>sqrt(x)</th>\n",
       "      <th>sin(pi*x/4)</th>\n",
       "      <th>exp(-y)</th>\n",
       "      <th>y^2-x^2</th>\n",
       "    </tr>\n",
       "  </thead>\n",
       "  <tbody>\n",
       "    <tr>\n",
       "      <th>a</th>\n",
       "      <td>0.0</td>\n",
       "      <td>1.0</td>\n",
       "      <td>0.000000</td>\n",
       "      <td>0.000000e+00</td>\n",
       "      <td>0.367879</td>\n",
       "      <td>1.0</td>\n",
       "    </tr>\n",
       "    <tr>\n",
       "      <th>b</th>\n",
       "      <td>2.0</td>\n",
       "      <td>3.0</td>\n",
       "      <td>1.414214</td>\n",
       "      <td>1.000000e+00</td>\n",
       "      <td>0.049787</td>\n",
       "      <td>5.0</td>\n",
       "    </tr>\n",
       "    <tr>\n",
       "      <th>c</th>\n",
       "      <td>4.0</td>\n",
       "      <td>5.0</td>\n",
       "      <td>2.000000</td>\n",
       "      <td>1.224647e-16</td>\n",
       "      <td>0.006738</td>\n",
       "      <td>9.0</td>\n",
       "    </tr>\n",
       "    <tr>\n",
       "      <th>d</th>\n",
       "      <td>6.0</td>\n",
       "      <td>NaN</td>\n",
       "      <td>2.449490</td>\n",
       "      <td>-1.000000e+00</td>\n",
       "      <td>NaN</td>\n",
       "      <td>NaN</td>\n",
       "    </tr>\n",
       "    <tr>\n",
       "      <th>e</th>\n",
       "      <td>NaN</td>\n",
       "      <td>7.0</td>\n",
       "      <td>NaN</td>\n",
       "      <td>NaN</td>\n",
       "      <td>0.000912</td>\n",
       "      <td>NaN</td>\n",
       "    </tr>\n",
       "  </tbody>\n",
       "</table>\n",
       "</div>"
      ],
      "text/plain": [
       "     x    y   sqrt(x)   sin(pi*x/4)   exp(-y)  y^2-x^2\n",
       "a  0.0  1.0  0.000000  0.000000e+00  0.367879      1.0\n",
       "b  2.0  3.0  1.414214  1.000000e+00  0.049787      5.0\n",
       "c  4.0  5.0  2.000000  1.224647e-16  0.006738      9.0\n",
       "d  6.0  NaN  2.449490 -1.000000e+00       NaN      NaN\n",
       "e  NaN  7.0       NaN           NaN  0.000912      NaN"
      ]
     },
     "metadata": {},
     "output_type": "display_data"
    }
   ],
   "source": [
    "xs = pd.Series([0, 2, 4, 6], index=['a', 'b', 'c', 'd'])\n",
    "ys = pd.Series([1, 3, 5, 7], index=['a', 'b', 'c', 'e'])\n",
    "df8 = pd.DataFrame({'x':xs, 'y':ys})\n",
    "df8['sqrt(x)'] = np.sqrt(df8['x'])\n",
    "df8['sin(pi*x/4)'] = np.sin(np.pi*df8['x']/4)\n",
    "df8['exp(-y)'] = np.exp(-df8['y'])\n",
    "df8['y^2-x^2'] = df8['y']**2 - df8['x']**2\n",
    "display(df8)"
   ]
  },
  {
   "cell_type": "markdown",
   "metadata": {},
   "source": [
    "In the same way as for Pandas Series, rows with undefined data can be removed from a DataFrame through `.dropna()`, and an arbitrary row by `.drop()`."
   ]
  },
  {
   "cell_type": "code",
   "execution_count": 101,
   "metadata": {},
   "outputs": [
    {
     "data": {
      "text/html": [
       "<div>\n",
       "<style scoped>\n",
       "    .dataframe tbody tr th:only-of-type {\n",
       "        vertical-align: middle;\n",
       "    }\n",
       "\n",
       "    .dataframe tbody tr th {\n",
       "        vertical-align: top;\n",
       "    }\n",
       "\n",
       "    .dataframe thead th {\n",
       "        text-align: right;\n",
       "    }\n",
       "</style>\n",
       "<table border=\"1\" class=\"dataframe\">\n",
       "  <thead>\n",
       "    <tr style=\"text-align: right;\">\n",
       "      <th></th>\n",
       "      <th>x</th>\n",
       "      <th>y</th>\n",
       "      <th>sqrt(x)</th>\n",
       "      <th>sin(pi*x/4)</th>\n",
       "      <th>exp(-y)</th>\n",
       "      <th>y^2-x^2</th>\n",
       "    </tr>\n",
       "  </thead>\n",
       "  <tbody>\n",
       "    <tr>\n",
       "      <th>a</th>\n",
       "      <td>0.0</td>\n",
       "      <td>1.0</td>\n",
       "      <td>0.000000</td>\n",
       "      <td>0.000000e+00</td>\n",
       "      <td>0.367879</td>\n",
       "      <td>1.0</td>\n",
       "    </tr>\n",
       "    <tr>\n",
       "      <th>b</th>\n",
       "      <td>2.0</td>\n",
       "      <td>3.0</td>\n",
       "      <td>1.414214</td>\n",
       "      <td>1.000000e+00</td>\n",
       "      <td>0.049787</td>\n",
       "      <td>5.0</td>\n",
       "    </tr>\n",
       "    <tr>\n",
       "      <th>c</th>\n",
       "      <td>4.0</td>\n",
       "      <td>5.0</td>\n",
       "      <td>2.000000</td>\n",
       "      <td>1.224647e-16</td>\n",
       "      <td>0.006738</td>\n",
       "      <td>9.0</td>\n",
       "    </tr>\n",
       "  </tbody>\n",
       "</table>\n",
       "</div>"
      ],
      "text/plain": [
       "     x    y   sqrt(x)   sin(pi*x/4)   exp(-y)  y^2-x^2\n",
       "a  0.0  1.0  0.000000  0.000000e+00  0.367879      1.0\n",
       "b  2.0  3.0  1.414214  1.000000e+00  0.049787      5.0\n",
       "c  4.0  5.0  2.000000  1.224647e-16  0.006738      9.0"
      ]
     },
     "metadata": {},
     "output_type": "display_data"
    },
    {
     "data": {
      "text/html": [
       "<div>\n",
       "<style scoped>\n",
       "    .dataframe tbody tr th:only-of-type {\n",
       "        vertical-align: middle;\n",
       "    }\n",
       "\n",
       "    .dataframe tbody tr th {\n",
       "        vertical-align: top;\n",
       "    }\n",
       "\n",
       "    .dataframe thead th {\n",
       "        text-align: right;\n",
       "    }\n",
       "</style>\n",
       "<table border=\"1\" class=\"dataframe\">\n",
       "  <thead>\n",
       "    <tr style=\"text-align: right;\">\n",
       "      <th></th>\n",
       "      <th>x</th>\n",
       "      <th>y</th>\n",
       "      <th>sqrt(x)</th>\n",
       "      <th>sin(pi*x/4)</th>\n",
       "      <th>exp(-y)</th>\n",
       "      <th>y^2-x^2</th>\n",
       "    </tr>\n",
       "  </thead>\n",
       "  <tbody>\n",
       "    <tr>\n",
       "      <th>a</th>\n",
       "      <td>0.0</td>\n",
       "      <td>1.0</td>\n",
       "      <td>0.0</td>\n",
       "      <td>0.000000e+00</td>\n",
       "      <td>0.367879</td>\n",
       "      <td>1.0</td>\n",
       "    </tr>\n",
       "    <tr>\n",
       "      <th>c</th>\n",
       "      <td>4.0</td>\n",
       "      <td>5.0</td>\n",
       "      <td>2.0</td>\n",
       "      <td>1.224647e-16</td>\n",
       "      <td>0.006738</td>\n",
       "      <td>9.0</td>\n",
       "    </tr>\n",
       "  </tbody>\n",
       "</table>\n",
       "</div>"
      ],
      "text/plain": [
       "     x    y  sqrt(x)   sin(pi*x/4)   exp(-y)  y^2-x^2\n",
       "a  0.0  1.0      0.0  0.000000e+00  0.367879      1.0\n",
       "c  4.0  5.0      2.0  1.224647e-16  0.006738      9.0"
      ]
     },
     "metadata": {},
     "output_type": "display_data"
    }
   ],
   "source": [
    "df8.dropna(inplace=True)\n",
    "display(df8)\n",
    "df8.drop('b', inplace=True)\n",
    "display(df8)"
   ]
  },
  {
   "cell_type": "markdown",
   "metadata": {},
   "source": [
    "In the example above, the two Series `x` and `y` are combined based on the union of their indices. Such an operation is called joining or merging. In the cell below, the logic is implemented using DataFrame objects instead of Series."
   ]
  },
  {
   "cell_type": "code",
   "execution_count": 102,
   "metadata": {},
   "outputs": [
    {
     "data": {
      "text/html": [
       "<div>\n",
       "<style scoped>\n",
       "    .dataframe tbody tr th:only-of-type {\n",
       "        vertical-align: middle;\n",
       "    }\n",
       "\n",
       "    .dataframe tbody tr th {\n",
       "        vertical-align: top;\n",
       "    }\n",
       "\n",
       "    .dataframe thead th {\n",
       "        text-align: right;\n",
       "    }\n",
       "</style>\n",
       "<table border=\"1\" class=\"dataframe\">\n",
       "  <thead>\n",
       "    <tr style=\"text-align: right;\">\n",
       "      <th></th>\n",
       "      <th>x</th>\n",
       "      <th>y</th>\n",
       "      <th>sqrt(x)</th>\n",
       "      <th>sin(pi*x/4)</th>\n",
       "      <th>exp(-y)</th>\n",
       "      <th>y^2-x^2</th>\n",
       "    </tr>\n",
       "  </thead>\n",
       "  <tbody>\n",
       "    <tr>\n",
       "      <th>a</th>\n",
       "      <td>0.0</td>\n",
       "      <td>1.0</td>\n",
       "      <td>0.000000</td>\n",
       "      <td>0.000000e+00</td>\n",
       "      <td>0.367879</td>\n",
       "      <td>1.0</td>\n",
       "    </tr>\n",
       "    <tr>\n",
       "      <th>b</th>\n",
       "      <td>2.0</td>\n",
       "      <td>3.0</td>\n",
       "      <td>1.414214</td>\n",
       "      <td>1.000000e+00</td>\n",
       "      <td>0.049787</td>\n",
       "      <td>5.0</td>\n",
       "    </tr>\n",
       "    <tr>\n",
       "      <th>c</th>\n",
       "      <td>4.0</td>\n",
       "      <td>5.0</td>\n",
       "      <td>2.000000</td>\n",
       "      <td>1.224647e-16</td>\n",
       "      <td>0.006738</td>\n",
       "      <td>9.0</td>\n",
       "    </tr>\n",
       "    <tr>\n",
       "      <th>d</th>\n",
       "      <td>6.0</td>\n",
       "      <td>NaN</td>\n",
       "      <td>2.449490</td>\n",
       "      <td>-1.000000e+00</td>\n",
       "      <td>NaN</td>\n",
       "      <td>NaN</td>\n",
       "    </tr>\n",
       "    <tr>\n",
       "      <th>e</th>\n",
       "      <td>NaN</td>\n",
       "      <td>7.0</td>\n",
       "      <td>NaN</td>\n",
       "      <td>NaN</td>\n",
       "      <td>0.000912</td>\n",
       "      <td>NaN</td>\n",
       "    </tr>\n",
       "  </tbody>\n",
       "</table>\n",
       "</div>"
      ],
      "text/plain": [
       "     x    y   sqrt(x)   sin(pi*x/4)   exp(-y)  y^2-x^2\n",
       "a  0.0  1.0  0.000000  0.000000e+00  0.367879      1.0\n",
       "b  2.0  3.0  1.414214  1.000000e+00  0.049787      5.0\n",
       "c  4.0  5.0  2.000000  1.224647e-16  0.006738      9.0\n",
       "d  6.0  NaN  2.449490 -1.000000e+00       NaN      NaN\n",
       "e  NaN  7.0       NaN           NaN  0.000912      NaN"
      ]
     },
     "metadata": {},
     "output_type": "display_data"
    }
   ],
   "source": [
    "xdf = pd.DataFrame([0, 2, 4, 6], index=['a', 'b', 'c', 'd'], columns=['x'])\n",
    "ydf = pd.DataFrame([1, 3, 5, 7], index=['a', 'b', 'c', 'e'], columns=['y'])\n",
    "df9 = xdf.join(ydf, how='outer')\n",
    "df9['sqrt(x)'] = np.sqrt(df9['x'])\n",
    "df9['sin(pi*x/4)'] = np.sin(np.pi*df9['x']/4)\n",
    "df9['exp(-y)'] = np.exp(-df9['y'])\n",
    "df9['y^2-x^2'] = df9['y']**2 - df9['x']**2\n",
    "display(df9)"
   ]
  },
  {
   "cell_type": "markdown",
   "metadata": {},
   "source": [
    "---\n",
    "---"
   ]
  }
 ],
 "metadata": {
  "kernelspec": {
   "display_name": "Python 3 (ipykernel)",
   "language": "python",
   "name": "python3"
  },
  "language_info": {
   "codemirror_mode": {
    "name": "ipython",
    "version": 3
   },
   "file_extension": ".py",
   "mimetype": "text/x-python",
   "name": "python",
   "nbconvert_exporter": "python",
   "pygments_lexer": "ipython3",
   "version": "3.11.2"
  }
 },
 "nbformat": 4,
 "nbformat_minor": 4
}
