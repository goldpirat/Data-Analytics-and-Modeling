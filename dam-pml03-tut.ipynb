{
 "cells": [
  {
   "cell_type": "markdown",
   "metadata": {
    "collapsed": true,
    "jupyter": {
     "outputs_hidden": true
    }
   },
   "source": [
    "**dam-pml03-tut.ipynb**: This Jupyter notebook is provided by Joachim Vogt for the *Python Modeling Lab* of the module *CO-710 Data Analytics and Modeling* offered in Fall 2024 at Constructor University. Jupyter notebooks and other learning resources are available from a dedicated *module platform*."
   ]
  },
  {
   "cell_type": "markdown",
   "metadata": {},
   "source": [
    "# Statistical tests in Python"
   ]
  },
  {
   "cell_type": "markdown",
   "metadata": {},
   "source": [
    "This tutorial discusses Python tools for performing selected statistical inference operations on data sets such as constructing confidence intervals for the mean and hypothesis testing. Follow the instructions below to learn to\n",
    "\n",
    "- [ ] connect the concept of confidence intervals to cumulative distribution functions,\n",
    "- [ ] compute confidence intervals for the mean of normally distributed data,\n",
    "- [ ] apply $z$ tests and Student's t tests to data,\n",
    "- [ ] check the normality assumption using hypothesis tests and probability plots.\n",
    "\n",
    "If you wish to keep track of your progress, you may edit this markdown cell, check a box in the list above after having worked through the respective part of this notebook, and save the file.\n",
    "\n",
    "*Short exercises* are embedded in this notebook. *Sample solutions* can be found at the end of the document."
   ]
  },
  {
   "cell_type": "markdown",
   "metadata": {},
   "source": [
    "## Preparation"
   ]
  },
  {
   "cell_type": "markdown",
   "metadata": {},
   "source": [
    "Run the following code cell to import standard Python data science libraries. The NumPy module facilitates efficient processing of numerical arrays, and is usually imported as `np`. From the matplotlib library we import the package `pyplot` using the standard abbreviation `plt`. The magic command `%matplotlib inline` (IPython shell) allows for inline display of graphics."
   ]
  },
  {
   "cell_type": "code",
   "execution_count": 1,
   "metadata": {},
   "outputs": [],
   "source": [
    "import numpy as np\n",
    "import matplotlib.pyplot as plt\n",
    "%matplotlib inline"
   ]
  },
  {
   "cell_type": "markdown",
   "metadata": {},
   "source": [
    "The SciPy module `stats` offers a range of statistical tests as well as specific graphical tools such as probability plots."
   ]
  },
  {
   "cell_type": "code",
   "execution_count": 2,
   "metadata": {},
   "outputs": [],
   "source": [
    "from scipy import stats"
   ]
  },
  {
   "cell_type": "markdown",
   "metadata": {},
   "source": [
    "## Normally distributed random variables\n",
    "\n",
    "To prepare for the construction of confidence intervals, let us revisit the normal (Gaussian) distribution to illustrate key theoretical concepts such as the *cumulative distribution function (CDF)* and the *quantile function* or *percent point function (PPF)*.\n",
    "\n",
    "A normally distributed random variable $U$ is fully characterized by the mean $\\mu = \\bar{U}$ and the standard deviation $\\sigma = \\Delta U$. The probability to find a measurement of $U$ in the range $[\\mu-z\\sigma,\\mu+z\\sigma]$ is given by\n",
    "$$\n",
    "\\gamma \\, = \\, \\mathrm{Prob} (\\mu-z\\sigma \\le U \\le \\mu + z\\sigma) \n",
    "\\, = \\, \\Phi (z) - \\Phi(-z) \n",
    "$$\n",
    "where $\\Phi$ denotes the cumulative distribution function of the standard normal distribution with zero mean ($\\mu=0$) and unit variance ($\\sigma=1$). The symmetry of the distribution implies $\\Phi(-z) = 1 - \\Phi(z)$ and thus\n",
    "$$\n",
    "\\gamma \\, = \\, 2 \\Phi (z) - 1 ~.\n",
    "$$"
   ]
  },
  {
   "cell_type": "markdown",
   "metadata": {},
   "source": [
    "Choosing $z=2$ gives $\\mathrm{Prob} (\\mu-2\\sigma \\le U \\le \\mu + 2\\sigma) = 0.9545$, hence the probability that a measurement ends up within $\\pm 2 \\sigma$ around the mean $\\mu$ is larger than $95\\%$."
   ]
  },
  {
   "cell_type": "code",
   "execution_count": 5,
   "metadata": {},
   "outputs": [
    {
     "name": "stdout",
     "output_type": "stream",
     "text": [
      "Probability gamma for z = 2.00 : gamma = 95.45%\n"
     ]
    }
   ],
   "source": [
    "z = 2\n",
    "gamma = stats.norm.cdf(z) - stats.norm.cdf(-z)\n",
    "print('Probability gamma for z = {:.2f} : gamma = {:.2f}%'.format(z, gamma*100))"
   ]
  },
  {
   "cell_type": "markdown",
   "metadata": {},
   "source": [
    "One may also ask how many ($z$) standard deviations ($\\sigma$) around the mean ($\\mu$) must be considered to arrive at a given probability. The answer is provided by the percent point function $\\Phi^{-1}$ (inverse CDF, also called quantile function), with the number $z$ given by\n",
    "$$\n",
    "z \\; = \\; \n",
    "\\Phi^{-1} \\left( \\frac{1+\\mathrm{Prob} (\\mu-z\\sigma \\le U \\le \\mu + z\\sigma)}{2} \\right) \n",
    "\\; = \\; \\Phi^{-1} \\left( \\frac{1+\\gamma}{2} \\right) ~.\n",
    "$$"
   ]
  },
  {
   "cell_type": "code",
   "execution_count": 7,
   "metadata": {},
   "outputs": [
    {
     "name": "stdout",
     "output_type": "stream",
     "text": [
      "Score z for probability gamma = 95.00% : z = 1.96\n"
     ]
    }
   ],
   "source": [
    "gamma = 0.95\n",
    "z = stats.norm.ppf(0.5 * (1+gamma))\n",
    "print('Score z for probability gamma = {:.2f}% : z = {:.2f}'.format(gamma*100, z))"
   ]
  },
  {
   "cell_type": "markdown",
   "metadata": {},
   "source": [
    "## Confidence intervals\n",
    "\n",
    "Suppose an unknown statistical parameter $\\theta$ is estimated from a data set (sample).\n",
    "\n",
    "A *confidence interval* $I_\\alpha$ is a range of values expected to contain the parameter $\\theta$. The subscript $\\alpha$ is the maximum tolerated false positive rate, i.e., the probability that $I_\\alpha$ *does not contain* the true value of the parameter $\\theta$. The probability threshold $\\alpha$ is called *significance level*. Commonly used values are $\\alpha = 0.1,0.05,0.01$, corresponding to percentages $10\\%,5\\%,1\\%$.\n",
    "\n",
    "The probability that the true value of the parameter lies within the confidence interval is called *confidence level*, and usually denoted by $\\gamma = 1-\\alpha$.\n",
    "\n",
    "If $\\Phi$ is the cumulative distribution function of the random variable $\\theta$, then the confidence interval $I_\\alpha = [u_\\alpha,v_\\alpha]$ with significance level $\\alpha$ and confidence level $\\gamma = 1 - \\alpha$ satisfies the condition\n",
    "$$\n",
    "\\gamma \\, = \\, 1 - \\alpha \n",
    "\\, = \\, \\mathrm{Prob} (\\theta \\in I_\\alpha) \n",
    "\\, = \\, \\mathrm{Prob} (\\theta \\in [u_\\alpha,v_\\alpha]) \n",
    "\\, = \\, \\Phi (v_\\alpha) - \\Phi (u_\\alpha) ~.\n",
    "$$"
   ]
  },
  {
   "cell_type": "markdown",
   "metadata": {},
   "source": [
    "### Confidence interval for the mean\n",
    "\n",
    "The confidence interval concept is illustrated using a specific but important parameter example, namely, the mean of normally distributed measurements.\n",
    "\n",
    "- Consider data $\\{u_1,u_2,\\ldots,u_N\\}$ distributed according to a normal distribution with (true) mean $\\mu$ and (true) standard deviation $\\sigma$.\n",
    "- The parameter $\\mu$ is estimated using the formula for the sample mean:\n",
    "$$\n",
    "\\hat{\\mu} = \\bar{u} = \\frac{1}{N} \\sum_{j=1}^n u_j ~.\n",
    "$$\n",
    "- A confidence interval $I_\\alpha$ for $\\mu$ is of the form \n",
    "$$\n",
    "I_\\alpha \\, = \\, \n",
    "[\\hat{\\mu}-h_\\alpha,\\hat{\\mu}+h_\\alpha] = [\\bar{u}-h_\\alpha,\\bar{u}+h_\\alpha]\n",
    "$$\n",
    "where $h_\\alpha = h_\\alpha(u)$ is the interval half-width for a prescribed significance level $\\alpha$.\n",
    "- If $\\sigma$ is known, and $z_\\alpha$ is the normal distribution quantile function at $1-\\frac{\\alpha}{2}$, then $h_\\alpha \\, = \\, z_\\alpha \\, \\frac{\\sigma}{\\sqrt{N}}$.\n",
    "- If the standard deviation $\\sigma$ is not known, it is estimated using the (unbiased) formula\n",
    "$$\n",
    "\\Delta u = \\sqrt{ \\frac{1}{N-1} \\sum_{j=1}^n (u_j-\\bar{u})^2 } ~.\n",
    "$$\n",
    "In general, the confidence interval for the true mean $\\mu$ must be constructed using *Student's $t$ distribution* with $N-1$ degrees of freedom:\n",
    "$$\n",
    "h_\\alpha \\; = \\; t_{\\alpha,N-1} \\, \\frac{\\Delta u}{\\sqrt{N}} ~.\n",
    "$$\n",
    "Here $t_{\\alpha,N-1}$ is the value of the $t$ distribution quantile function at $1-\\frac{\\alpha}{2}$.\n",
    "- For large sample sizes ($N>30$ is often recommended), the $t$ distribution \n",
    "is well approximated by a normal distribution so that the half-width can be written as\n",
    "$$\n",
    "h_\\alpha \\; = \\; z_\\alpha \\, \\frac{\\Delta u}{\\sqrt{N}}\n",
    "$$\n",
    "where $z_\\alpha$ is the score of the normal distribution quantile function at $1-\\frac{\\alpha}{2}$."
   ]
  },
  {
   "cell_type": "markdown",
   "metadata": {},
   "source": [
    "### Example: large sample size\n",
    "\n",
    "Suppose $N=100$ measurements produce the sample mean $\\bar{u} = 7.5$, and the sample estimate $\\Delta u \\approx \\sigma$ of the standard deviation $\\sigma$ is $\\Delta u = 1.7$. Choosing a confidence level of $\\gamma = 0.9$ (significance level $\\alpha = 0.1$) gives $z=1.64$ and $z \\frac{\\Delta u}{\\sqrt{N}} = 0.28 \\approx 0.3$. The associated confidence interval is $[7.5-0.3,7.5+0.3] = [7.2,7.8]$."
   ]
  },
  {
   "cell_type": "code",
   "execution_count": 8,
   "metadata": {},
   "outputs": [
    {
     "name": "stdout",
     "output_type": "stream",
     "text": [
      "gamma      : 0.90\n",
      "alpha      : 0.10\n",
      "z-score    : 1.64\n",
      "Half-width : 0.28\n",
      "Conf. int. : [7.22,7.78]\n"
     ]
    }
   ],
   "source": [
    "### Define sample parameters.\n",
    "N = SampleSize = 100\n",
    "SampleMean = 7.5\n",
    "SampleStd = 1.7\n",
    "### Define confidence level gamma.\n",
    "gamma = 0.9\n",
    "print('gamma      : {:.2f}'.format(gamma))\n",
    "### Compute significance level alpha.\n",
    "alpha = 1 - gamma\n",
    "print('alpha      : {:.2f}'.format(alpha))\n",
    "### Compute z-score from normal percent point function.\n",
    "zScore = stats.norm.ppf(1-0.5*alpha)\n",
    "print('z-score    : {:.2f}'.format(zScore))\n",
    "### Compute half-width of confidence interval.\n",
    "HWci = zScore*SampleStd/np.sqrt(N)\n",
    "print('Half-width : {:.2f}'.format(HWci))\n",
    "### Compute left boundary and right boundary of confidence interval.\n",
    "LBci, RBci = SampleMean-HWci, SampleMean+HWci\n",
    "print('Conf. int. : [{:.2f},{:.2f}]'.format(LBci, RBci))"
   ]
  },
  {
   "cell_type": "markdown",
   "metadata": {},
   "source": [
    "### Example: small sample size\n",
    "\n",
    "As before, the sample mean is $\\bar{u} = 7.5$, and the sample standard deviation is $\\Delta u = 1.7$, but now the sample size is $N=10$. For $N-1 = 9$ degrees of freedom, the value of the $t$ distribution for $\\alpha = 0.1$ gives $t=1.83$, so that the half-width of the confidence interval becomes $t \\frac{\\Delta u}{\\sqrt{N}} = 0.99 \\approx 1.0$. The associated confidence interval is $[7.5-1.0,7.5+1.0] = [6.5,8.5]$."
   ]
  },
  {
   "cell_type": "code",
   "execution_count": 9,
   "metadata": {},
   "outputs": [
    {
     "name": "stdout",
     "output_type": "stream",
     "text": [
      "gamma      : 0.90\n",
      "alpha      : 0.10\n",
      "t-value    : 1.83\n",
      "Half-width : 0.99\n",
      "Conf. int. : [6.51,8.49]\n"
     ]
    }
   ],
   "source": [
    "### Define sample parameters.\n",
    "N = SampleSize = 10\n",
    "SampleMean = 7.5\n",
    "SampleStd = 1.7\n",
    "### Define confidence level gamma.\n",
    "gamma = 0.9\n",
    "print('gamma      : {:.2f}'.format(gamma))\n",
    "### Compute significance level alpha.\n",
    "alpha = 1 - gamma\n",
    "print('alpha      : {:.2f}'.format(alpha))\n",
    "### Compute t-value from percent point function of t-distribution.\n",
    "tValue = stats.t.ppf(1-0.5*alpha, N-1)\n",
    "print('t-value    : {:.2f}'.format(tValue))\n",
    "### Compute half-width of confidence interval.\n",
    "HWci = tValue*SampleStd/np.sqrt(N)\n",
    "print('Half-width : {:.2f}'.format(HWci))\n",
    "### Compute left boundary and right boundary of confidence interval.\n",
    "LBci, RBci = SampleMean-HWci, SampleMean+HWci\n",
    "print('Conf. int. : [{:.2f},{:.2f}]'.format(LBci, RBci))"
   ]
  },
  {
   "cell_type": "markdown",
   "metadata": {},
   "source": [
    "### Exercise: Confidence interval for the mean\n",
    "\n",
    "Repeat the previous exercise for a sample size of $N=30$ and 5% significance ($\\alpha = 0.05$), using both the (proper) small sample size method and also the large sample size approximation."
   ]
  },
  {
   "cell_type": "code",
   "execution_count": 12,
   "metadata": {},
   "outputs": [
    {
     "name": "stdout",
     "output_type": "stream",
     "text": [
      "alpha      : 0.05\n",
      "gamma      : 0.95\n",
      "t-value    : 2.05\n",
      "z-value    : 1.96\n",
      "Half-width (t-Value): 0.63\n",
      "Half-width (z-Value): 0.61\n",
      "Conf. int. (t-Value): [6.87,8.13]\n",
      "Conf. int. (z-Value): [6.89,8.11]\n"
     ]
    }
   ],
   "source": [
    "N = SampleSize = 30\n",
    "SampleMean = 7.5\n",
    "SampleStd = 1.7\n",
    "alpha=0.05\n",
    "gamma=1-alpha\n",
    "tValue= stats.t.ppf(1-(alpha*0.5),N-1)\n",
    "zValue= stats.norm.ppf(1-(alpha*0.5))\n",
    "HWci1= tValue*(SampleStd/np.sqrt(N))\n",
    "HWci2= zValue*(SampleStd/np.sqrt(N))\n",
    "LBci1, RBci1 = SampleMean-HWci1, SampleMean+HWci1\n",
    "LBci2, RBci2 = SampleMean-HWci2, SampleMean+HWci2\n",
    "print('alpha      : {:.2f}'.format(alpha))\n",
    "print('gamma      : {:.2f}'.format(gamma))\n",
    "print('t-value    : {:.2f}'.format(tValue))\n",
    "print('z-value    : {:.2f}'.format(zValue))\n",
    "print('Half-width (t-Value): {:.2f}'.format(HWci1))\n",
    "print('Half-width (z-Value): {:.2f}'.format(HWci2))\n",
    "print('Conf. int. (t-Value): [{:.2f},{:.2f}]'.format(LBci1, RBci1))\n",
    "print('Conf. int. (z-Value): [{:.2f},{:.2f}]'.format(LBci2, RBci2))\n"
   ]
  },
  {
   "cell_type": "markdown",
   "metadata": {},
   "source": [
    "## Hypothesis testing"
   ]
  },
  {
   "cell_type": "markdown",
   "metadata": {},
   "source": [
    "*Hypothesis testing* is a method in inferential statistics with the following elements.\n",
    "\n",
    "- Formulate a *null hypothesis* $H_0$ and (at least implicitly) an alternative hypothesis $H_1$ referring to a testable property of the distribution.\n",
    "- Define a *test statistic* $T$ sensitive to differences between $H_0$ and $H_1$.\n",
    "- Choose a *significance level* $\\alpha$ (maximum tolerated false positive rate).\n",
    "- For the chosen test statistic $T$, find the value $t$ from the sample.\n",
    "- Compute the *probability value* ($p$ value): probability that an empirical estimate of $T$ is at least as extreme as the observed value $t$, assuming that the null hypothesis $H_0$ is valid.\n",
    "- The null hypothesis $H_0$ is rejected (in favor of $H_1$) if $p < \\alpha$.\n",
    "- *Type I error*: a true null hypothesis is rejected (false positive).\n",
    "- *Type II error*: a false null hypothesis is not rejected (false negative)."
   ]
  },
  {
   "cell_type": "markdown",
   "metadata": {},
   "source": [
    "In the examples below, the standard choice for the significance level $\\alpha$ is as follows."
   ]
  },
  {
   "cell_type": "code",
   "execution_count": null,
   "metadata": {},
   "outputs": [],
   "source": [
    "alpha = SignificanceLevel = 0.05\n",
    "gamma = ConfidenceLevel = 1 - SignificanceLevel"
   ]
  },
  {
   "cell_type": "markdown",
   "metadata": {},
   "source": [
    "### $z$ tests\n",
    "\n",
    "This category summarizes statistical hypothesis tests with a test statistic $Z$ that is normally distributed: $Z \\sim \\mathcal{N} (\\mu,\\sigma^2)$. $Z$ tests are often used as so-called location (mean $\\mu$) tests when either the scale (standard deviation $\\sigma$) is known, or the sample size $N$ is large enough for the exact (Student's $t$) distribution to be well approximated by a normal distribution. The test statistic $Z$ is the scaled difference between the sample mean $\\bar{u}$ and $\\mu$: \n",
    "$$\n",
    "Z \\, = \\, \\frac{\\bar{u}-\\mu}{\\sigma/\\sqrt{N}} \\, \\sim \\, \\mathcal{N} (0,1) ~.\n",
    "$$\n",
    "Under the null hypothesis $H_0$ it is assumed that the sample mean $\\bar{u}$ does not show a significant difference from the true mean $\\mu$."
   ]
  },
  {
   "cell_type": "markdown",
   "metadata": {},
   "source": [
    "To demonstrate the test procedure, we first generate a sample of normally distributed data."
   ]
  },
  {
   "cell_type": "code",
   "execution_count": 13,
   "metadata": {},
   "outputs": [],
   "source": [
    "### Define the true parameters of the underlying normal distribution.\n",
    "TrueMean = 3\n",
    "TrueStd = 5\n",
    "### Obtain a sample drawn from the underlying normal distribution.\n",
    "N = SampleSize = 100\n",
    "data = stats.norm.rvs(loc=TrueMean, scale=TrueStd, size=SampleSize)"
   ]
  },
  {
   "cell_type": "markdown",
   "metadata": {},
   "source": [
    "We compute the sample mean $\\bar{u}$ and the resulting value $z$ of the test statistic $Z$. Using the cumulative distribution function (CDF) $\\Phi$ of the standard normal distribution, we obtain the probability ($p$ value) of getting a value at least as extreme (small or large) as $\\bar{u}$ in the theoretical distribution of sample means:\n",
    "$$\n",
    "p \\, = \\, \\Phi(-|z|) + \\left[ 1 - \\Phi(|z|) \\right] \n",
    "\\, = \\, 2 \\Phi(-|z|) ~.\n",
    "$$\n",
    "This kind of test is called *two-tailed* because the rejection region comprises both the left (lower) tail of the distribution (area $\\Phi(-|z|)$) and right (upper) tail (area $1 - \\Phi(|z|) = \\Phi(-|z|)$)."
   ]
  },
  {
   "cell_type": "code",
   "execution_count": 14,
   "metadata": {},
   "outputs": [
    {
     "name": "stdout",
     "output_type": "stream",
     "text": [
      "True mean           : 3.000000\n",
      "Sample size         : 100\n",
      "Sample mean         : 2.935870\n",
      "* Test statistic    : -0.128259\n",
      "* Probability value : 0.897944\n",
      "No significant difference between sample mean and true mean.\n"
     ]
    }
   ],
   "source": [
    "print('True mean           : {:3f}'.format(TrueMean))\n",
    "print('Sample size         : {}'.format(SampleSize))\n",
    "### Compute the sample mean.\n",
    "SampleMean = np.mean(data)\n",
    "print('Sample mean         : {:3f}'.format(SampleMean))\n",
    "### Compute the test statistic.\n",
    "TestStat = (SampleMean-TrueMean) / (TrueStd/np.sqrt(SampleSize))\n",
    "### Compute the probability value (p value).\n",
    "ProbVal = 2*stats.norm.cdf(-np.abs(TestStat))\n",
    "print('* Test statistic    : {:3f}'.format(TestStat))\n",
    "print('* Probability value : {:3f}'.format(ProbVal))\n",
    "### Check how the p value compares with the significance level alpha.\n",
    "if ProbVal >= alpha:\n",
    "    print('No significant difference between sample mean and true mean.')\n",
    "else:\n",
    "    print('Statistically significant difference between sample mean and true mean.')"
   ]
  },
  {
   "cell_type": "markdown",
   "metadata": {},
   "source": [
    "Since in this case the sample is drawn from the stated underlying distribution, we expect that in most cases (confidence level $\\gamma = 1 - \\alpha$) the null hypothesis is not rejected, i.e., the sample mean does not differ significantly from the true mean. To check this expectation, we repeat the procedure using a large set of samples, and plot the distribution of $p$ values."
   ]
  },
  {
   "cell_type": "code",
   "execution_count": 18,
   "metadata": {},
   "outputs": [
    {
     "data": {
      "image/png": "[encoded data removed]",
      "text/plain": [
       "<Figure size 1100x400 with 2 Axes>"
      ]
     },
     "metadata": {},
     "output_type": "display_data"
    }
   ],
   "source": [
    "### Define the true parameters of the underlying normal distribution.\n",
    "TrueMean = 3\n",
    "TrueStd = 5\n",
    "### Initialize arrays to store statistics of the ensemble of samples.\n",
    "N = SampleSize = 100\n",
    "NumSamples = 1000\n",
    "SampleMeanArr = np.zeros(NumSamples)\n",
    "TestStatArr = np.zeros(NumSamples)\n",
    "ProbValArr = np.zeros(NumSamples)\n",
    "### Create arrays with sample statistics and test statistics.\n",
    "for k in range(NumSamples):\n",
    "    data = stats.norm.rvs(loc=TrueMean, scale=TrueStd, size=SampleSize)\n",
    "    SampleMeanArr[k] = np.mean(data)\n",
    "    TestStatArr[k] = (SampleMeanArr[k]-TrueMean) / (TrueStd/np.sqrt(SampleSize))\n",
    "    ProbValArr[k] = 2*stats.norm.cdf(-np.abs(TestStatArr[k]))\n",
    "### Open plot figure.\n",
    "plt.figure(figsize=(11, 4))\n",
    "### Plot distribution of test statistics.\n",
    "plt.subplot(1, 2, 1)\n",
    "epdf, bins, pats = plt.hist(TestStatArr, 20, density=True)\n",
    "plt.plot(bins, stats.norm.pdf(bins), color='orange')\n",
    "plt.title('Distribution of test statistics')\n",
    "plt.xlabel(r'Test statistic $z$')\n",
    "plt.ylabel('Normed PDF')\n",
    "zCrit = stats.norm.ppf(alpha/2)\n",
    "plt.plot([zCrit, zCrit], [0, stats.norm.pdf(zCrit)], color='red')\n",
    "plt.plot([-zCrit, -zCrit], [0, stats.norm.pdf(-zCrit)], color='red')\n",
    "### Plot distribution of probability values.\n",
    "plt.subplot(1, 2, 2)\n",
    "plt.hist(ProbValArr, 20)\n",
    "ylimits = plt.gca().get_ylim()\n",
    "plt.plot([alpha, alpha], ylimits, color='red')\n",
    "plt.xlim([0, 1])\n",
    "plt.ylim(ylimits)\n",
    "plt.title(r'Distribution of $p$ values (two-tailed $z$ test)')\n",
    "plt.xlabel('Binned $p$ values')\n",
    "plt.ylabel('Occurence frequency');"
   ]
  },
  {
   "cell_type": "markdown",
   "metadata": {},
   "source": [
    "The left diagram shows the empirical (blue histogram) and theoretical (orange line) distributions of the test statistic $z$. The two rejection regions are marked by two vertical red lines. The right diagram displays the (supposedly uniform) empirical distribution of $p$ values. Here the vertical red line gives the signficance level. The region to the left of the red line contains the cases where the sample means are so extreme that the resulting $p$ values are below the pre-selected significance level $\\alpha$, and the null hypothesis $H_0$ is erroneously rejected (population of false positives)."
   ]
  },
  {
   "cell_type": "markdown",
   "metadata": {},
   "source": [
    "### Exercise: $z$ test\n",
    "\n",
    "Repeat the procedure using random variates from a standard uniform distribution on the interval $[0,1]$. Note the mean is $\\mu=\\frac{1}{2}$, and the variance is $\\sigma^2 = \\frac{1}{12}$."
   ]
  },
  {
   "cell_type": "code",
   "execution_count": 20,
   "metadata": {},
   "outputs": [
    {
     "data": {
      "image/png": "[encoded data removed]",
      "text/plain": [
       "<Figure size 1100x400 with 2 Axes>"
      ]
     },
     "metadata": {},
     "output_type": "display_data"
    }
   ],
   "source": [
    "### Define the true parameters of the underlying normal distribution.\n",
    "TrueMean = 0.5\n",
    "TrueStd = 1/np.sqrt(12)\n",
    "### Initialize arrays to store statistics of the ensemble of samples.\n",
    "N = SampleSize = 100\n",
    "NumSamples = 1000\n",
    "SampleMeanArr = np.zeros(NumSamples)\n",
    "TestStatArr = np.zeros(NumSamples)\n",
    "ProbValArr = np.zeros(NumSamples)\n",
    "### Create arrays with sample statistics and test statistics.\n",
    "for k in range(NumSamples):\n",
    "    data = stats.uniform.rvs(size=SampleSize)\n",
    "    SampleMeanArr[k] = np.mean(data)\n",
    "    TestStatArr[k] = (SampleMeanArr[k]-TrueMean) / (TrueStd/np.sqrt(SampleSize))\n",
    "    ProbValArr[k] = 2*stats.norm.cdf(-np.abs(TestStatArr[k]))\n",
    "### Open plot figure.\n",
    "plt.figure(figsize=(11, 4))\n",
    "### Plot distribution of test statistics.\n",
    "plt.subplot(1, 2, 1)\n",
    "epdf, bins, pats = plt.hist(TestStatArr, 20, density=True)\n",
    "plt.plot(bins, stats.norm.pdf(bins), color='orange')\n",
    "plt.title('Distribution of test statistics')\n",
    "plt.xlabel(r'Test statistic $z$')\n",
    "plt.ylabel('Uniform PDF')\n",
    "zCrit = stats.norm.ppf(alpha/2)\n",
    "plt.plot([zCrit, zCrit], [0, stats.norm.pdf(zCrit)], color='red')\n",
    "plt.plot([-zCrit, -zCrit], [0, stats.norm.pdf(-zCrit)], color='red')\n",
    "### Plot distribution of probability values.\n",
    "plt.subplot(1, 2, 2)\n",
    "plt.hist(ProbValArr, 20)\n",
    "ylimits = plt.gca().get_ylim()\n",
    "plt.plot([alpha, alpha], ylimits, color='red')\n",
    "plt.xlim([0, 1])\n",
    "plt.ylim(ylimits)\n",
    "plt.title(r'Distribution of $p$ values (two-tailed $z$ test)')\n",
    "plt.xlabel('Binned $p$ values')\n",
    "plt.ylabel('Occurence frequency');"
   ]
  },
  {
   "cell_type": "markdown",
   "metadata": {},
   "source": [
    "### Student's $t$ test\n",
    "\n",
    "This category summarizes statistical hypothesis tests where under the null hypothesis $H_0$, the test statistic \n",
    "$$\n",
    "T \\, = \\, \\frac{\\bar{u}-\\mu}{\\sigma/\\sqrt{N}}\n",
    "$$\n",
    "follows a Student's $t$ distribution, e.g., when the sample mean $\\bar{u}$ is compared with the known true mean $\\mu$ but the standard deviation is unknown, and the sample size $N$ is small. Under the null hypothesis $H_0$ it is assumed that the sample mean $\\bar{u}$ does not show a significant difference from the true mean $\\mu$."
   ]
  },
  {
   "cell_type": "markdown",
   "metadata": {},
   "source": [
    "To demonstrate this test, we repeat the numerical $z$ test exercise with a small sample size. "
   ]
  },
  {
   "cell_type": "code",
   "execution_count": 21,
   "metadata": {},
   "outputs": [
    {
     "name": "stdout",
     "output_type": "stream",
     "text": [
      "True mean           : 3.000000\n",
      "Sample size         : 10\n",
      "Sample mean         : 2.044835\n",
      "Sample std          : 6.200499\n",
      "* Test statistic    : -0.487137\n",
      "* Probability value : 0.637806\n",
      "No significant difference between sample mean and true mean.\n"
     ]
    }
   ],
   "source": [
    "### Define the true parameters of the underlying normal distribution.\n",
    "TrueMean = 3\n",
    "print('True mean           : {:3f}'.format(TrueMean))\n",
    "TrueStd = 5\n",
    "### Obtain a sample drawn from the underlying normal distribution.\n",
    "N = SampleSize = 10\n",
    "print('Sample size         : {}'.format(SampleSize))\n",
    "data = stats.norm.rvs(loc=TrueMean, scale=TrueStd, size=SampleSize)\n",
    "### Compute sample statistics.\n",
    "SampleMean = np.mean(data)\n",
    "SampleStd = np.std(data, ddof=1)\n",
    "print('Sample mean         : {:3f}'.format(SampleMean))\n",
    "print('Sample std          : {:3f}'.format(SampleStd))\n",
    "### Compute test statistic.\n",
    "TestStat = (SampleMean-TrueMean) / (SampleStd/np.sqrt(SampleSize))\n",
    "### Compute the probability value (p value).\n",
    "ProbVal = 2*stats.t.cdf(-np.abs(TestStat), df=SampleSize-1)\n",
    "print('* Test statistic    : {:3f}'.format(TestStat))\n",
    "print('* Probability value : {:3f}'.format(ProbVal))\n",
    "### Check how the p value compares with the significance level alpha.\n",
    "if ProbVal >= alpha:\n",
    "    print('No significant difference between sample mean and true mean.')\n",
    "else:\n",
    "    print('Statistically significant difference between sample mean and true mean.')"
   ]
  },
  {
   "cell_type": "markdown",
   "metadata": {},
   "source": [
    "This test is implemented in the function ``ttest_1samp()`` of the ``scipy.stats`` module. "
   ]
  },
  {
   "cell_type": "code",
   "execution_count": 22,
   "metadata": {},
   "outputs": [
    {
     "name": "stdout",
     "output_type": "stream",
     "text": [
      "Test statistic    : -0.487137\n",
      "Probability value : 0.637806\n"
     ]
    }
   ],
   "source": [
    "### Compute the test statistic and the probability value (p value).\n",
    "TestStat, ProbVal = stats.ttest_1samp(data, TrueMean)\n",
    "print('Test statistic    : {:3f}'.format(TestStat))\n",
    "print('Probability value : {:3f}'.format(ProbVal))"
   ]
  },
  {
   "cell_type": "markdown",
   "metadata": {},
   "source": [
    "### Exercise: Two-sample $t$ test\n",
    "\n",
    "Consult the literature on the two-sample $t$ test, and then the documentation of ``scipy.stats.ttest_ind()`` to learn how the test is implemented. Following the examples above, generate two samples of random variates and demonstrate the usage of the function ``ttest_ind()``."
   ]
  },
  {
   "cell_type": "code",
   "execution_count": 27,
   "metadata": {},
   "outputs": [
    {
     "name": "stdout",
     "output_type": "stream",
     "text": [
      "True mean           : 3.000000\n",
      "Sample size         : 10\n",
      "Sample mean   1      : 3.674172\n",
      "Sample mean   2      : 1.269513\n",
      "* Test statistic : 1.195265\n",
      "* Probability value : 0.247494\n",
      "No significant difference between the sample means.\n"
     ]
    }
   ],
   "source": [
    "TrueMean1 = TrueMean2 = 3\n",
    "print('True mean           : {:3f}'.format(TrueMean))\n",
    "TrueStd1 =TrueStd2= 5\n",
    "### Obtain a sample drawn from the underlying normal distribution.\n",
    "N = SampleSize = 10\n",
    "print('Sample size         : {}'.format(SampleSize))\n",
    "data1 = stats.norm.rvs(loc=TrueMean1, scale=TrueStd1, size=SampleSize)\n",
    "### Compute sample statistics.\n",
    "SampleMean1 = np.mean(data1)\n",
    "print('Sample mean   1      : {:3f}'.format(SampleMean1))\n",
    "data2 = stats.norm.rvs(loc=TrueMean1, scale=TrueStd1, size=SampleSize)\n",
    "### Compute sample statistics.\n",
    "SampleMean2 = np.mean(data2)\n",
    "print('Sample mean   2      : {:3f}'.format(SampleMean2))\n",
    "TestStat, ProbVal = stats.ttest_ind(data1,data2)\n",
    "print('* Test statistic : {:3f}'.format(TestStat))\n",
    "print('* Probability value : {:3f}'.format(ProbVal))\n",
    "### Check how the p value compares with the significance level alpha.\n",
    "if ProbVal >= alpha:\n",
    "    print('No significant difference between the sample means.')\n",
    "else:\n",
    "    print('Significant difference between the sample means.')"
   ]
  },
  {
   "cell_type": "markdown",
   "metadata": {},
   "source": [
    "## Double-checking the normality assumption"
   ]
  },
  {
   "cell_type": "markdown",
   "metadata": {},
   "source": [
    "Many statistical applications rest on normally distributed random variables. This section presents statistical tests as well as graphical means to double-check the normality assumption."
   ]
  },
  {
   "cell_type": "markdown",
   "metadata": {},
   "source": [
    "### Normality tests"
   ]
  },
  {
   "cell_type": "markdown",
   "metadata": {},
   "source": [
    "Several normality tests are implemented in ``scipy.stats``. D'Agostino's $K^2$ test is based on the sample skewness and the sample kurtosis. In the Anderson-Darling test, the test statistic is constructed using the empirical CDF. The Shapiro-Wilk test is related to the normal Q-Q (quantile-quantile) plot, see below."
   ]
  },
  {
   "cell_type": "code",
   "execution_count": 29,
   "metadata": {},
   "outputs": [
    {
     "name": "stdout",
     "output_type": "stream",
     "text": [
      "Sample size         : 100\n",
      "\n",
      "First sample (normal distribution)\n",
      "* Test statistic    : 0.991044\n",
      "* Probability value : 0.748486\n",
      "No support for rejecting the normality hypothesis.\n",
      "\n",
      "Second sample (uniform distribution)\n",
      "* Test statistic    : 0.948671\n",
      "* Probability value : 0.000679\n",
      "Reject the normality hypothesis.\n"
     ]
    }
   ],
   "source": [
    "N = SampleSize = 100\n",
    "print('Sample size         : {}'.format(SampleSize))\n",
    "#.. Generate a sample drawn from a normal distribution.\n",
    "data1 = stats.norm.rvs(size=SampleSize)\n",
    "TestStat,ProbVal = stats.shapiro(data1)\n",
    "print('\\nFirst sample (normal distribution)')\n",
    "print('* Test statistic    : {:3f}'.format(TestStat))\n",
    "print('* Probability value : {:3f}'.format(ProbVal))\n",
    "if ProbVal >= alpha:\n",
    "    print('No support for rejecting the normality hypothesis.')\n",
    "else:\n",
    "    print('Reject the normality hypothesis.')\n",
    "#.. Generate a sample drawn from a uniform distribution.\n",
    "data2 = stats.uniform.rvs(size=SampleSize)\n",
    "TestStat,ProbVal = stats.shapiro(data2)\n",
    "print('\\nSecond sample (uniform distribution)')\n",
    "print('* Test statistic    : {:3f}'.format(TestStat))\n",
    "print('* Probability value : {:3f}'.format(ProbVal))\n",
    "if ProbVal >= alpha:\n",
    "    print('No support for rejecting the normality hypothesis.')\n",
    "else:\n",
    "    print('Reject the normality hypothesis.')"
   ]
  },
  {
   "cell_type": "markdown",
   "metadata": {},
   "source": [
    "### Exercise: Normality tests"
   ]
  },
  {
   "cell_type": "markdown",
   "metadata": {},
   "source": [
    "Repeat this exercise using D'Agostino's $K^2$ test as implemented in `scipy.stats.normaltest()`."
   ]
  },
  {
   "cell_type": "code",
   "execution_count": 30,
   "metadata": {},
   "outputs": [
    {
     "name": "stdout",
     "output_type": "stream",
     "text": [
      "Sample size         : 100\n",
      "\n",
      "First sample (normal distribution)\n",
      "* Test statistic    : 0.004181\n",
      "* Probability value : 0.997912\n",
      "No support for rejecting the normality hypothesis.\n",
      "\n",
      "Second sample (uniform distribution)\n",
      "* Test statistic    : 55.983184\n",
      "* Probability value : 0.000000\n",
      "Reject the normality hypothesis.\n"
     ]
    }
   ],
   "source": [
    "N = SampleSize = 100\n",
    "print('Sample size         : {}'.format(SampleSize))\n",
    "#.. Generate a sample drawn from a normal distribution.\n",
    "data1 = stats.norm.rvs(size=SampleSize)\n",
    "TestStat,ProbVal = stats.normaltest(data1)\n",
    "print('\\nFirst sample (normal distribution)')\n",
    "print('* Test statistic    : {:3f}'.format(TestStat))\n",
    "print('* Probability value : {:3f}'.format(ProbVal))\n",
    "if ProbVal >= alpha:\n",
    "    print('No support for rejecting the normality hypothesis.')\n",
    "else:\n",
    "    print('Reject the normality hypothesis.')\n",
    "#.. Generate a sample drawn from a uniform distribution.\n",
    "data2 = stats.uniform.rvs(size=SampleSize)\n",
    "TestStat,ProbVal = stats.normaltest(data2)\n",
    "print('\\nSecond sample (uniform distribution)')\n",
    "print('* Test statistic    : {:3f}'.format(TestStat))\n",
    "print('* Probability value : {:3f}'.format(ProbVal))\n",
    "if ProbVal >= alpha:\n",
    "    print('No support for rejecting the normality hypothesis.')\n",
    "else:\n",
    "    print('Reject the normality hypothesis.')"
   ]
  },
  {
   "cell_type": "markdown",
   "metadata": {},
   "source": [
    "### Normal probability plot"
   ]
  },
  {
   "cell_type": "markdown",
   "metadata": {},
   "source": [
    "A graphical means to check normality is the normal probability (Q-Q, quantile-quantile) plot. See the documentation on the function `probplot()` for further information."
   ]
  },
  {
   "cell_type": "code",
   "execution_count": 31,
   "metadata": {},
   "outputs": [
    {
     "name": "stdout",
     "output_type": "stream",
     "text": [
      "Sample size         : 100\n"
     ]
    },
    {
     "data": {
      "image/png": "[encoded data removed]",
      "text/plain": [
       "<Figure size 1100x400 with 2 Axes>"
      ]
     },
     "metadata": {},
     "output_type": "display_data"
    }
   ],
   "source": [
    "N = SampleSize = 100\n",
    "print('Sample size         : {}'.format(SampleSize))\n",
    "### Generate a sample drawn from a normal distribution.\n",
    "data1 = stats.norm.rvs(size=SampleSize)\n",
    "### Generate a sample drawn from a uniform distribution.\n",
    "data2 = stats.uniform.rvs(size=SampleSize)\n",
    "### Open plot figure\n",
    "plt.figure(figsize=(11, 4))\n",
    "### Normal probability plot for the first sample.\n",
    "plt.subplot(1, 2, 1)\n",
    "stats.probplot(data1, plot=plt, fit=True)\n",
    "plt.title('Normal probability plot for the 1st sample')\n",
    "plt.xlabel('Theoretical quantiles (standard Gaussian)')\n",
    "plt.ylabel('Empirical quantiles (ordered data)')\n",
    "plt.grid()\n",
    "### Normal probability plot for the second sample.\n",
    "plt.subplot(1, 2, 2)\n",
    "stats.probplot(data2, plot=plt, fit=True)\n",
    "plt.title('Normal probability plot for the 2nd sample')\n",
    "plt.xlabel('Theoretical quantiles (standard Gaussian)')\n",
    "plt.ylabel('Empirical quantiles (ordered data)')\n",
    "plt.grid()"
   ]
  },
  {
   "cell_type": "markdown",
   "metadata": {},
   "source": [
    "The linear pattern in the normal probability plot on the left offers strong evidence for the normality hypothesis, and the linear correlation coefficient is very close to one. The intercept of the regression line gives an estimate of the mean, and the slope an estimate of the standard deviation. In the diagram on the right, the probability plot displays a nonlinear pattern, particularly away from the center, with the first few points above the line and the last few points below the line (S-shaped pattern), indicative of a symmetric distribution with short tails."
   ]
  },
  {
   "cell_type": "markdown",
   "metadata": {},
   "source": [
    "### Exercise: Normal probability plot"
   ]
  },
  {
   "cell_type": "markdown",
   "metadata": {},
   "source": [
    "Consult the section [Normal Probability Plot](https://www.itl.nist.gov/div898/handbook/eda/section3/normprp1.htm) of the online [NIST/SEMATECH e-Handbook of Statistical Methods](http://www.itl.nist.gov/div898/handbook/) to learn how to interpret normal probability plots."
   ]
  },
  {
   "cell_type": "markdown",
   "metadata": {},
   "source": [
    "---\n",
    "---"
   ]
  },
  {
   "cell_type": "markdown",
   "metadata": {},
   "source": [
    "## Solutions"
   ]
  },
  {
   "cell_type": "markdown",
   "metadata": {},
   "source": [
    "### Solution: Confidence interval for the mean"
   ]
  },
  {
   "cell_type": "code",
   "execution_count": null,
   "metadata": {},
   "outputs": [],
   "source": [
    "### Define sample parameters.\n",
    "N = SampleSize = 30\n",
    "SampleMean = 7.5\n",
    "SampleStd = 1.7\n",
    "### Define significence level alpha.\n",
    "alpha = 0.05\n",
    "print('alpha      : {:.2f}'.format(alpha))\n",
    "### Compute confidence level gamma.\n",
    "gamma = 1 - alpha\n",
    "print('gamma      : {:.2f}'.format(gamma))\n",
    "### Estimation using Student's t distribution.\n",
    "print(\"\\nEstimation using Student's t distribution\")\n",
    "tValue = stats.t.ppf(1-0.5*alpha, N-1)\n",
    "print('* t-value    : {:.2f}'.format(tValue))\n",
    "HWci = tValue*SampleStd/np.sqrt(N)\n",
    "print('* Half-width : {:.2f}'.format(HWci))\n",
    "LBci, RBci = SampleMean-HWci, SampleMean+HWci\n",
    "print('* Conf. int. : [{:.2f},{:.2f}]'.format(LBci, RBci))\n",
    "### Estimation using normal theory statistics.\n",
    "print(\"\\nEstimation using normal theory statistics\")\n",
    "zScore = stats.norm.ppf(1-0.5*alpha)\n",
    "print('* z-score    : {:.2f}'.format(zScore))\n",
    "HWci = zScore*SampleStd/np.sqrt(N)\n",
    "print('* Half-width : {:.2f}'.format(HWci))\n",
    "LBci, RBci = SampleMean-HWci, SampleMean+HWci\n",
    "print('* Conf. int. : [{:.2f},{:.2f}]'.format(LBci, RBci))"
   ]
  },
  {
   "cell_type": "markdown",
   "metadata": {},
   "source": [
    "### Solution: $z$ test"
   ]
  },
  {
   "cell_type": "code",
   "execution_count": null,
   "metadata": {},
   "outputs": [],
   "source": [
    "### Define the true parameters of the underlying uniform distribution.\n",
    "TrueMean = 0.5\n",
    "TrueStd = 1/np.sqrt(12)\n",
    "### Initialize arrays to store statistics of the ensemble of samples.\n",
    "N = SampleSize = 100\n",
    "NumSamples = 1000\n",
    "SampleMeanArr = np.zeros(NumSamples)\n",
    "TestStatArr = np.zeros(NumSamples)\n",
    "ProbValArr = np.zeros(NumSamples)\n",
    "### Create arrays with sample statistics and test statistics.\n",
    "for k in range(NumSamples):\n",
    "    data = stats.uniform.rvs(size=SampleSize)\n",
    "    SampleMeanArr[k] = np.mean(data)\n",
    "    TestStatArr[k] = (SampleMeanArr[k]-TrueMean) / (TrueStd/np.sqrt(SampleSize))\n",
    "    ProbValArr[k] = 2*stats.norm.cdf(-np.abs(TestStatArr[k]))\n",
    "### Open plot figure.\n",
    "plt.figure(figsize=(11, 4))\n",
    "### Plot distribution of test statistics.\n",
    "plt.subplot(1, 2, 1)\n",
    "epdf, bins, pats = plt.hist(TestStatArr, 20, density=True)\n",
    "plt.plot(bins, stats.norm.pdf(bins), color='orange')\n",
    "plt.title('Distribution of test statistics')\n",
    "plt.xlabel(r'Test statistic $z$')\n",
    "plt.ylabel('Normed PDF')\n",
    "zCrit = stats.norm.ppf(alpha/2)\n",
    "plt.plot([zCrit, zCrit], [0, stats.norm.pdf(zCrit)], color='red')\n",
    "plt.plot([-zCrit, -zCrit],[0, stats.norm.pdf(-zCrit)], color='red')\n",
    "### Plot distribution of probability values.\n",
    "plt.subplot(1, 2, 2)\n",
    "plt.hist(ProbValArr, 20)\n",
    "ylimits = plt.gca().get_ylim()\n",
    "plt.plot([alpha, alpha], ylimits, color='red')\n",
    "plt.xlim([0, 1])\n",
    "plt.ylim(ylimits)\n",
    "plt.title(r'Distribution of $p$ values (two-tailed $z$ test)')\n",
    "plt.xlabel('Binned $p$ values')\n",
    "plt.ylabel('Occurence frequency');"
   ]
  },
  {
   "cell_type": "markdown",
   "metadata": {},
   "source": [
    "### Solution: Two-sample $t$ test"
   ]
  },
  {
   "cell_type": "code",
   "execution_count": null,
   "metadata": {},
   "outputs": [],
   "source": [
    "### Define the true parameters of the underlying normal distributions.\n",
    "TrueMean1 = 3\n",
    "print('True mean (1)     : {:3f}'.format(TrueMean1))\n",
    "TrueStd1 = 5\n",
    "TrueMean2 = TrueMean1\n",
    "print('True mean (2)     : {:3f}'.format(TrueMean2))\n",
    "TrueStd2 = TrueStd1\n",
    "### Obtain two samples drawn from the underlying normal distributions.\n",
    "N = SampleSize = 10\n",
    "print('Sample size       : {}'.format(SampleSize))\n",
    "data1 = stats.norm.rvs(loc=TrueMean1, scale=TrueStd1, size=SampleSize)\n",
    "SampleMean1 = np.mean(data1)\n",
    "print('Sample mean (1)   : {:3f}'.format(SampleMean1))\n",
    "data2 = stats.norm.rvs(loc=TrueMean2, scale=TrueStd2, size=SampleSize)\n",
    "SampleMean2 = np.mean(data2)\n",
    "print('Sample mean (2)   : {:3f}'.format(SampleMean2))\n",
    "### Compute the test statistic and the probability value (p value).\n",
    "TestStat, ProbVal = stats.ttest_ind(data1, data2)\n",
    "print('* Test statistic    : {:3f}'.format(TestStat))\n",
    "print('* Probability value : {:3f}'.format(ProbVal))\n",
    "### Check how the p value compares with the significance level alpha.\n",
    "if ProbVal >= alpha:\n",
    "    print('No significant difference between the sample means.')\n",
    "else:\n",
    "    print('Significant difference between the sample means.')"
   ]
  },
  {
   "cell_type": "markdown",
   "metadata": {},
   "source": [
    "### Solution: Normality tests"
   ]
  },
  {
   "cell_type": "code",
   "execution_count": null,
   "metadata": {},
   "outputs": [],
   "source": [
    "N = SampleSize = 100\n",
    "print('Sample size         : {}'.format(SampleSize))\n",
    "#.. Generate a sample drawn from a normal distribution.\n",
    "data1 = stats.norm.rvs(size=SampleSize)\n",
    "TestStat,ProbVal = stats.normaltest(data1)\n",
    "print('\\nFirst sample (normal distribution)')\n",
    "print('* Test statistic    : {:3f}'.format(TestStat))\n",
    "print('* Probability value : {:3f}'.format(ProbVal))\n",
    "if ProbVal >= alpha:\n",
    "    print('No support for rejecting the normality hypothesis.')\n",
    "else:\n",
    "    print('Reject the normality hypothesis.')\n",
    "#.. Generate a sample drawn from a uniform distribution.\n",
    "data2 = stats.uniform.rvs(size=SampleSize)\n",
    "TestStat, ProbVal = stats.normaltest(data2)\n",
    "print('\\nSecond sample (uniform distribution)')\n",
    "print('* Test statistic    : {:3f}'.format(TestStat))\n",
    "print('* Probability value : {:3f}'.format(ProbVal))\n",
    "if ProbVal >= alpha:\n",
    "    print('No support for rejecting the normality hypothesis.')\n",
    "else:\n",
    "    print('Reject the normality hypothesis.')"
   ]
  },
  {
   "cell_type": "markdown",
   "metadata": {},
   "source": [
    "---\n",
    "---"
   ]
  }
 ],
 "metadata": {
  "anaconda-cloud": {},
  "kernelspec": {
   "display_name": "Python 3 (ipykernel)",
   "language": "python",
   "name": "python3"
  },
  "language_info": {
   "codemirror_mode": {
    "name": "ipython",
    "version": 3
   },
   "file_extension": ".py",
   "mimetype": "text/x-python",
   "name": "python",
   "nbconvert_exporter": "python",
   "pygments_lexer": "ipython3",
   "version": "3.11.2"
  }
 },
 "nbformat": 4,
 "nbformat_minor": 4
}
